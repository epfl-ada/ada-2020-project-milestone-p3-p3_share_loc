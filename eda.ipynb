{
 "cells": [
  {
   "cell_type": "code",
   "execution_count": 101,
   "metadata": {},
   "outputs": [],
   "source": [
    "import pandas as pd\n",
    "import matplotlib.pyplot as plt\n",
    "import seaborn as sns\n",
    "from scipy import stats"
   ]
  },
  {
   "cell_type": "markdown",
   "metadata": {},
   "source": [
    "## Data wrangling and EDA"
   ]
  },
  {
   "cell_type": "markdown",
   "metadata": {},
   "source": [
    "### a. Import datasets"
   ]
  },
  {
   "cell_type": "code",
   "execution_count": 22,
   "metadata": {},
   "outputs": [
    {
     "data": {
      "text/html": [
       "<div>\n",
       "<style scoped>\n",
       "    .dataframe tbody tr th:only-of-type {\n",
       "        vertical-align: middle;\n",
       "    }\n",
       "\n",
       "    .dataframe tbody tr th {\n",
       "        vertical-align: top;\n",
       "    }\n",
       "\n",
       "    .dataframe thead th {\n",
       "        text-align: right;\n",
       "    }\n",
       "</style>\n",
       "<table border=\"1\" class=\"dataframe\">\n",
       "  <thead>\n",
       "    <tr style=\"text-align: right;\">\n",
       "      <th></th>\n",
       "      <th>weight</th>\n",
       "      <th>weight_perc2.5</th>\n",
       "      <th>weight_perc25</th>\n",
       "      <th>weight_perc50</th>\n",
       "      <th>weight_perc75</th>\n",
       "      <th>weight_perc97.5</th>\n",
       "      <th>weight_std</th>\n",
       "      <th>weight_ci95</th>\n",
       "      <th>volume</th>\n",
       "      <th>volume_perc2.5</th>\n",
       "      <th>...</th>\n",
       "      <th>population</th>\n",
       "      <th>male</th>\n",
       "      <th>female</th>\n",
       "      <th>age_0_17</th>\n",
       "      <th>age_18_64</th>\n",
       "      <th>age_65+</th>\n",
       "      <th>avg_age</th>\n",
       "      <th>area_sq_km</th>\n",
       "      <th>people_per_sq_km</th>\n",
       "      <th>density</th>\n",
       "    </tr>\n",
       "    <tr>\n",
       "      <th>area_id</th>\n",
       "      <th></th>\n",
       "      <th></th>\n",
       "      <th></th>\n",
       "      <th></th>\n",
       "      <th></th>\n",
       "      <th></th>\n",
       "      <th></th>\n",
       "      <th></th>\n",
       "      <th></th>\n",
       "      <th></th>\n",
       "      <th></th>\n",
       "      <th></th>\n",
       "      <th></th>\n",
       "      <th></th>\n",
       "      <th></th>\n",
       "      <th></th>\n",
       "      <th></th>\n",
       "      <th></th>\n",
       "      <th></th>\n",
       "      <th></th>\n",
       "      <th></th>\n",
       "    </tr>\n",
       "  </thead>\n",
       "  <tbody>\n",
       "    <tr>\n",
       "      <th>E02000001</th>\n",
       "      <td>323.180804</td>\n",
       "      <td>35.0</td>\n",
       "      <td>150.0</td>\n",
       "      <td>250.0</td>\n",
       "      <td>400.0</td>\n",
       "      <td>1000.0</td>\n",
       "      <td>323.685705</td>\n",
       "      <td>1.001360</td>\n",
       "      <td>98.849228</td>\n",
       "      <td>13.0</td>\n",
       "      <td>...</td>\n",
       "      <td>6687.0</td>\n",
       "      <td>3697.0</td>\n",
       "      <td>2990.0</td>\n",
       "      <td>1018.0</td>\n",
       "      <td>4349.0</td>\n",
       "      <td>1320.0</td>\n",
       "      <td>43.910124</td>\n",
       "      <td>2.90</td>\n",
       "      <td>2305.862069</td>\n",
       "      <td>2305.862069</td>\n",
       "    </tr>\n",
       "    <tr>\n",
       "      <th>E02000002</th>\n",
       "      <td>397.651232</td>\n",
       "      <td>32.5</td>\n",
       "      <td>150.0</td>\n",
       "      <td>300.0</td>\n",
       "      <td>500.0</td>\n",
       "      <td>1020.0</td>\n",
       "      <td>550.434424</td>\n",
       "      <td>6.030232</td>\n",
       "      <td>118.288417</td>\n",
       "      <td>11.0</td>\n",
       "      <td>...</td>\n",
       "      <td>7379.0</td>\n",
       "      <td>3549.0</td>\n",
       "      <td>3830.0</td>\n",
       "      <td>2150.0</td>\n",
       "      <td>4151.0</td>\n",
       "      <td>1078.0</td>\n",
       "      <td>35.567286</td>\n",
       "      <td>2.16</td>\n",
       "      <td>3416.203704</td>\n",
       "      <td>3416.203704</td>\n",
       "    </tr>\n",
       "    <tr>\n",
       "      <th>E02000003</th>\n",
       "      <td>371.276702</td>\n",
       "      <td>30.0</td>\n",
       "      <td>140.0</td>\n",
       "      <td>250.0</td>\n",
       "      <td>450.0</td>\n",
       "      <td>1200.0</td>\n",
       "      <td>564.404826</td>\n",
       "      <td>4.398728</td>\n",
       "      <td>118.385615</td>\n",
       "      <td>12.0</td>\n",
       "      <td>...</td>\n",
       "      <td>10720.0</td>\n",
       "      <td>5297.0</td>\n",
       "      <td>5423.0</td>\n",
       "      <td>2762.0</td>\n",
       "      <td>6649.0</td>\n",
       "      <td>1309.0</td>\n",
       "      <td>35.700466</td>\n",
       "      <td>2.14</td>\n",
       "      <td>5009.345794</td>\n",
       "      <td>5009.345794</td>\n",
       "    </tr>\n",
       "    <tr>\n",
       "      <th>E02000004</th>\n",
       "      <td>347.481292</td>\n",
       "      <td>29.0</td>\n",
       "      <td>126.0</td>\n",
       "      <td>250.0</td>\n",
       "      <td>430.0</td>\n",
       "      <td>1000.0</td>\n",
       "      <td>479.372575</td>\n",
       "      <td>5.297349</td>\n",
       "      <td>104.435407</td>\n",
       "      <td>11.0</td>\n",
       "      <td>...</td>\n",
       "      <td>6536.0</td>\n",
       "      <td>3119.0</td>\n",
       "      <td>3417.0</td>\n",
       "      <td>1454.0</td>\n",
       "      <td>4044.0</td>\n",
       "      <td>1038.0</td>\n",
       "      <td>38.493115</td>\n",
       "      <td>2.48</td>\n",
       "      <td>2635.483871</td>\n",
       "      <td>2635.483871</td>\n",
       "    </tr>\n",
       "    <tr>\n",
       "      <th>E02000005</th>\n",
       "      <td>400.576688</td>\n",
       "      <td>32.5</td>\n",
       "      <td>150.0</td>\n",
       "      <td>296.0</td>\n",
       "      <td>500.0</td>\n",
       "      <td>1050.0</td>\n",
       "      <td>593.021809</td>\n",
       "      <td>5.107669</td>\n",
       "      <td>128.997438</td>\n",
       "      <td>11.0</td>\n",
       "      <td>...</td>\n",
       "      <td>9243.0</td>\n",
       "      <td>4478.0</td>\n",
       "      <td>4765.0</td>\n",
       "      <td>2678.0</td>\n",
       "      <td>5554.0</td>\n",
       "      <td>1011.0</td>\n",
       "      <td>34.156335</td>\n",
       "      <td>1.19</td>\n",
       "      <td>7767.226891</td>\n",
       "      <td>7767.226891</td>\n",
       "    </tr>\n",
       "  </tbody>\n",
       "</table>\n",
       "<p>5 rows × 202 columns</p>\n",
       "</div>"
      ],
      "text/plain": [
       "               weight  weight_perc2.5  weight_perc25  weight_perc50  \\\n",
       "area_id                                                               \n",
       "E02000001  323.180804            35.0          150.0          250.0   \n",
       "E02000002  397.651232            32.5          150.0          300.0   \n",
       "E02000003  371.276702            30.0          140.0          250.0   \n",
       "E02000004  347.481292            29.0          126.0          250.0   \n",
       "E02000005  400.576688            32.5          150.0          296.0   \n",
       "\n",
       "           weight_perc75  weight_perc97.5  weight_std  weight_ci95  \\\n",
       "area_id                                                              \n",
       "E02000001          400.0           1000.0  323.685705     1.001360   \n",
       "E02000002          500.0           1020.0  550.434424     6.030232   \n",
       "E02000003          450.0           1200.0  564.404826     4.398728   \n",
       "E02000004          430.0           1000.0  479.372575     5.297349   \n",
       "E02000005          500.0           1050.0  593.021809     5.107669   \n",
       "\n",
       "               volume  volume_perc2.5  ...  population    male  female  \\\n",
       "area_id                                ...                               \n",
       "E02000001   98.849228            13.0  ...      6687.0  3697.0  2990.0   \n",
       "E02000002  118.288417            11.0  ...      7379.0  3549.0  3830.0   \n",
       "E02000003  118.385615            12.0  ...     10720.0  5297.0  5423.0   \n",
       "E02000004  104.435407            11.0  ...      6536.0  3119.0  3417.0   \n",
       "E02000005  128.997438            11.0  ...      9243.0  4478.0  4765.0   \n",
       "\n",
       "           age_0_17  age_18_64  age_65+    avg_age  area_sq_km  \\\n",
       "area_id                                                          \n",
       "E02000001    1018.0     4349.0   1320.0  43.910124        2.90   \n",
       "E02000002    2150.0     4151.0   1078.0  35.567286        2.16   \n",
       "E02000003    2762.0     6649.0   1309.0  35.700466        2.14   \n",
       "E02000004    1454.0     4044.0   1038.0  38.493115        2.48   \n",
       "E02000005    2678.0     5554.0   1011.0  34.156335        1.19   \n",
       "\n",
       "           people_per_sq_km      density  \n",
       "area_id                                   \n",
       "E02000001       2305.862069  2305.862069  \n",
       "E02000002       3416.203704  3416.203704  \n",
       "E02000003       5009.345794  5009.345794  \n",
       "E02000004       2635.483871  2635.483871  \n",
       "E02000005       7767.226891  7767.226891  \n",
       "\n",
       "[5 rows x 202 columns]"
      ]
     },
     "execution_count": 22,
     "metadata": {},
     "output_type": "execute_result"
    }
   ],
   "source": [
    "grc_df = pd.read_csv(\"data/year_msoa_grocery.csv\", index_col=\"area_id\")\n",
    "grc_df[\"density\"] = grc_df.population / grc_df.area_sq_km\n",
    "grc_df.head()"
   ]
  },
  {
   "cell_type": "code",
   "execution_count": 23,
   "metadata": {},
   "outputs": [
    {
     "data": {
      "text/html": [
       "<div>\n",
       "<style scoped>\n",
       "    .dataframe tbody tr th:only-of-type {\n",
       "        vertical-align: middle;\n",
       "    }\n",
       "\n",
       "    .dataframe tbody tr th {\n",
       "        vertical-align: top;\n",
       "    }\n",
       "\n",
       "    .dataframe thead th {\n",
       "        text-align: right;\n",
       "    }\n",
       "</style>\n",
       "<table border=\"1\" class=\"dataframe\">\n",
       "  <thead>\n",
       "    <tr style=\"text-align: right;\">\n",
       "      <th></th>\n",
       "      <th>MSOA name</th>\n",
       "      <th>Local authority code</th>\n",
       "      <th>Local authority name</th>\n",
       "      <th>Region code</th>\n",
       "      <th>Region name</th>\n",
       "      <th>Total annual income (£)</th>\n",
       "      <th>Upper confidence limit (£)</th>\n",
       "      <th>Lower confidence limit (£)</th>\n",
       "      <th>Confidence interval (£)</th>\n",
       "      <th>Net annual income (£)</th>\n",
       "      <th>...</th>\n",
       "      <th>Lower confidence limit (£).1</th>\n",
       "      <th>Confidence interval (£).1</th>\n",
       "      <th>Net income before housing costs (£)</th>\n",
       "      <th>Upper confidence limit (£).2</th>\n",
       "      <th>Lower confidence limit (£).2</th>\n",
       "      <th>Confidence interval (£).2</th>\n",
       "      <th>Net income after housing costs (£)</th>\n",
       "      <th>Upper confidence limit (£).3</th>\n",
       "      <th>Lower confidence limit (£).3</th>\n",
       "      <th>Confidence interval (£).3</th>\n",
       "    </tr>\n",
       "    <tr>\n",
       "      <th>MSOA code</th>\n",
       "      <th></th>\n",
       "      <th></th>\n",
       "      <th></th>\n",
       "      <th></th>\n",
       "      <th></th>\n",
       "      <th></th>\n",
       "      <th></th>\n",
       "      <th></th>\n",
       "      <th></th>\n",
       "      <th></th>\n",
       "      <th></th>\n",
       "      <th></th>\n",
       "      <th></th>\n",
       "      <th></th>\n",
       "      <th></th>\n",
       "      <th></th>\n",
       "      <th></th>\n",
       "      <th></th>\n",
       "      <th></th>\n",
       "      <th></th>\n",
       "      <th></th>\n",
       "    </tr>\n",
       "  </thead>\n",
       "  <tbody>\n",
       "    <tr>\n",
       "      <th>E02004297</th>\n",
       "      <td>County Durham 001</td>\n",
       "      <td>E06000047</td>\n",
       "      <td>County Durham</td>\n",
       "      <td>E12000001</td>\n",
       "      <td>North East</td>\n",
       "      <td>35900</td>\n",
       "      <td>45200</td>\n",
       "      <td>28500</td>\n",
       "      <td>16700</td>\n",
       "      <td>27300</td>\n",
       "      <td>...</td>\n",
       "      <td>22100</td>\n",
       "      <td>11700</td>\n",
       "      <td>27600</td>\n",
       "      <td>33300</td>\n",
       "      <td>22800</td>\n",
       "      <td>10400</td>\n",
       "      <td>25600</td>\n",
       "      <td>31000</td>\n",
       "      <td>21200</td>\n",
       "      <td>9800</td>\n",
       "    </tr>\n",
       "    <tr>\n",
       "      <th>E02004290</th>\n",
       "      <td>County Durham 002</td>\n",
       "      <td>E06000047</td>\n",
       "      <td>County Durham</td>\n",
       "      <td>E12000001</td>\n",
       "      <td>North East</td>\n",
       "      <td>42500</td>\n",
       "      <td>53600</td>\n",
       "      <td>33700</td>\n",
       "      <td>19900</td>\n",
       "      <td>29800</td>\n",
       "      <td>...</td>\n",
       "      <td>23900</td>\n",
       "      <td>13100</td>\n",
       "      <td>28600</td>\n",
       "      <td>34500</td>\n",
       "      <td>23700</td>\n",
       "      <td>10800</td>\n",
       "      <td>27500</td>\n",
       "      <td>33200</td>\n",
       "      <td>22700</td>\n",
       "      <td>10500</td>\n",
       "    </tr>\n",
       "    <tr>\n",
       "      <th>E02004298</th>\n",
       "      <td>County Durham 003</td>\n",
       "      <td>E06000047</td>\n",
       "      <td>County Durham</td>\n",
       "      <td>E12000001</td>\n",
       "      <td>North East</td>\n",
       "      <td>38000</td>\n",
       "      <td>47700</td>\n",
       "      <td>30200</td>\n",
       "      <td>17600</td>\n",
       "      <td>28300</td>\n",
       "      <td>...</td>\n",
       "      <td>22800</td>\n",
       "      <td>12300</td>\n",
       "      <td>28200</td>\n",
       "      <td>34100</td>\n",
       "      <td>23400</td>\n",
       "      <td>10700</td>\n",
       "      <td>26700</td>\n",
       "      <td>32300</td>\n",
       "      <td>22100</td>\n",
       "      <td>10200</td>\n",
       "    </tr>\n",
       "    <tr>\n",
       "      <th>E02004299</th>\n",
       "      <td>County Durham 004</td>\n",
       "      <td>E06000047</td>\n",
       "      <td>County Durham</td>\n",
       "      <td>E12000001</td>\n",
       "      <td>North East</td>\n",
       "      <td>33500</td>\n",
       "      <td>42200</td>\n",
       "      <td>26700</td>\n",
       "      <td>15500</td>\n",
       "      <td>26600</td>\n",
       "      <td>...</td>\n",
       "      <td>21600</td>\n",
       "      <td>11200</td>\n",
       "      <td>25500</td>\n",
       "      <td>30800</td>\n",
       "      <td>21100</td>\n",
       "      <td>9700</td>\n",
       "      <td>22400</td>\n",
       "      <td>27100</td>\n",
       "      <td>18500</td>\n",
       "      <td>8700</td>\n",
       "    </tr>\n",
       "    <tr>\n",
       "      <th>E02004291</th>\n",
       "      <td>County Durham 005</td>\n",
       "      <td>E06000047</td>\n",
       "      <td>County Durham</td>\n",
       "      <td>E12000001</td>\n",
       "      <td>North East</td>\n",
       "      <td>31700</td>\n",
       "      <td>39800</td>\n",
       "      <td>25200</td>\n",
       "      <td>14600</td>\n",
       "      <td>25500</td>\n",
       "      <td>...</td>\n",
       "      <td>20700</td>\n",
       "      <td>10800</td>\n",
       "      <td>25100</td>\n",
       "      <td>30200</td>\n",
       "      <td>20800</td>\n",
       "      <td>9500</td>\n",
       "      <td>20900</td>\n",
       "      <td>25300</td>\n",
       "      <td>17200</td>\n",
       "      <td>8000</td>\n",
       "    </tr>\n",
       "  </tbody>\n",
       "</table>\n",
       "<p>5 rows × 21 columns</p>\n",
       "</div>"
      ],
      "text/plain": [
       "                   MSOA name Local authority code Local authority name  \\\n",
       "MSOA code                                                                \n",
       "E02004297  County Durham 001            E06000047        County Durham   \n",
       "E02004290  County Durham 002            E06000047        County Durham   \n",
       "E02004298  County Durham 003            E06000047        County Durham   \n",
       "E02004299  County Durham 004            E06000047        County Durham   \n",
       "E02004291  County Durham 005            E06000047        County Durham   \n",
       "\n",
       "          Region code Region name  Total annual income (£)  \\\n",
       "MSOA code                                                    \n",
       "E02004297   E12000001  North East                    35900   \n",
       "E02004290   E12000001  North East                    42500   \n",
       "E02004298   E12000001  North East                    38000   \n",
       "E02004299   E12000001  North East                    33500   \n",
       "E02004291   E12000001  North East                    31700   \n",
       "\n",
       "           Upper confidence limit (£)  Lower confidence limit (£)  \\\n",
       "MSOA code                                                           \n",
       "E02004297                       45200                       28500   \n",
       "E02004290                       53600                       33700   \n",
       "E02004298                       47700                       30200   \n",
       "E02004299                       42200                       26700   \n",
       "E02004291                       39800                       25200   \n",
       "\n",
       "           Confidence interval (£)  Net annual income (£)  ...  \\\n",
       "MSOA code                                                  ...   \n",
       "E02004297                    16700                  27300  ...   \n",
       "E02004290                    19900                  29800  ...   \n",
       "E02004298                    17600                  28300  ...   \n",
       "E02004299                    15500                  26600  ...   \n",
       "E02004291                    14600                  25500  ...   \n",
       "\n",
       "           Lower confidence limit (£).1  Confidence interval (£).1  \\\n",
       "MSOA code                                                            \n",
       "E02004297                         22100                      11700   \n",
       "E02004290                         23900                      13100   \n",
       "E02004298                         22800                      12300   \n",
       "E02004299                         21600                      11200   \n",
       "E02004291                         20700                      10800   \n",
       "\n",
       "           Net income before housing costs (£)  Upper confidence limit (£).2  \\\n",
       "MSOA code                                                                      \n",
       "E02004297                                27600                         33300   \n",
       "E02004290                                28600                         34500   \n",
       "E02004298                                28200                         34100   \n",
       "E02004299                                25500                         30800   \n",
       "E02004291                                25100                         30200   \n",
       "\n",
       "           Lower confidence limit (£).2  Confidence interval (£).2  \\\n",
       "MSOA code                                                            \n",
       "E02004297                         22800                      10400   \n",
       "E02004290                         23700                      10800   \n",
       "E02004298                         23400                      10700   \n",
       "E02004299                         21100                       9700   \n",
       "E02004291                         20800                       9500   \n",
       "\n",
       "           Net income after housing costs (£)  Upper confidence limit (£).3  \\\n",
       "MSOA code                                                                     \n",
       "E02004297                               25600                         31000   \n",
       "E02004290                               27500                         33200   \n",
       "E02004298                               26700                         32300   \n",
       "E02004299                               22400                         27100   \n",
       "E02004291                               20900                         25300   \n",
       "\n",
       "           Lower confidence limit (£).3  Confidence interval (£).3  \n",
       "MSOA code                                                           \n",
       "E02004297                         21200                       9800  \n",
       "E02004290                         22700                      10500  \n",
       "E02004298                         22100                      10200  \n",
       "E02004299                         18500                       8700  \n",
       "E02004291                         17200                       8000  \n",
       "\n",
       "[5 rows x 21 columns]"
      ]
     },
     "execution_count": 23,
     "metadata": {},
     "output_type": "execute_result"
    }
   ],
   "source": [
    "inc_df = pd.read_excel(\"data/ons-model-based-income-estimates-msoa.xls\",\n",
    "                       sheet_name=\"2015-16 (annual income)\",\n",
    "                       index_col=\"MSOA code\")\n",
    "inc_df.head()"
   ]
  },
  {
   "cell_type": "markdown",
   "metadata": {},
   "source": [
    "### b. Exploration of the income dataset"
   ]
  },
  {
   "cell_type": "code",
   "execution_count": 24,
   "metadata": {},
   "outputs": [
    {
     "data": {
      "text/plain": [
       "Index(['MSOA name', 'Local authority code', 'Local authority name',\n",
       "       'Region code', 'Region name', 'Total annual income (£)',\n",
       "       'Upper confidence limit (£)', 'Lower confidence limit (£)',\n",
       "       'Confidence interval (£)', 'Net annual income (£)',\n",
       "       'Upper confidence limit (£).1', 'Lower confidence limit (£).1',\n",
       "       'Confidence interval (£).1', 'Net income before housing costs (£)',\n",
       "       'Upper confidence limit (£).2', 'Lower confidence limit (£).2',\n",
       "       'Confidence interval (£).2', 'Net income after housing costs (£)',\n",
       "       'Upper confidence limit (£).3', 'Lower confidence limit (£).3',\n",
       "       'Confidence interval (£).3'],\n",
       "      dtype='object')"
      ]
     },
     "execution_count": 24,
     "metadata": {},
     "output_type": "execute_result"
    }
   ],
   "source": [
    "inc_df.columns"
   ]
  },
  {
   "cell_type": "markdown",
   "metadata": {},
   "source": [
    "The values that we have access to, with there confidence intervals, are:\n",
    "- Total annual income\n",
    "- Net annual income\n",
    "- Net income before housing costs\n",
    "- Net income after housing costs"
   ]
  },
  {
   "cell_type": "code",
   "execution_count": 25,
   "metadata": {},
   "outputs": [],
   "source": [
    "# Rename columns to suppress the '£' character\n",
    "col_names = ['MSOA name', 'Local authority code', 'Local authority name',\n",
    "       'Region code', 'Region name', 'Total annual income',\n",
    "       'Upper confidence limit', 'Lower confidence limit',\n",
    "       'Confidence interval', 'Net annual income',\n",
    "       'Upper confidence limit.1', 'Lower confidence limit.1',\n",
    "       'Confidence interval.1', 'Net income before housing costs',\n",
    "       'Upper confidence limit.2', 'Lower confidence limit.2',\n",
    "       'Confidence interval.2', 'Net income after housing costs',\n",
    "       'Upper confidence limit.3', 'Lower confidence limit.3',\n",
    "       'Confidence interval.3']\n",
    "inc_df.columns = col_names"
   ]
  },
  {
   "cell_type": "code",
   "execution_count": 26,
   "metadata": {},
   "outputs": [
    {
     "data": {
      "text/plain": [
       "348"
      ]
     },
     "execution_count": 26,
     "metadata": {},
     "output_type": "execute_result"
    }
   ],
   "source": [
    "# Number of different local authorities\n",
    "inc_df[\"Local authority name\"].unique().shape[0]"
   ]
  },
  {
   "cell_type": "code",
   "execution_count": 27,
   "metadata": {},
   "outputs": [
    {
     "data": {
      "text/plain": [
       "10"
      ]
     },
     "execution_count": 27,
     "metadata": {},
     "output_type": "execute_result"
    }
   ],
   "source": [
    "# Number of different regions\n",
    "inc_df[\"Region name\"].unique().shape[0]"
   ]
  },
  {
   "cell_type": "markdown",
   "metadata": {},
   "source": [
    "### c. Join datasets"
   ]
  },
  {
   "cell_type": "code",
   "execution_count": 28,
   "metadata": {},
   "outputs": [
    {
     "name": "stdout",
     "output_type": "stream",
     "text": [
      "There are 983 areas in the Tesco dataset.\n",
      "983 of them appear in the income dataset.\n"
     ]
    }
   ],
   "source": [
    "areas = set(grc_df.index).intersection(set(inc_df.index))\n",
    "print(f\"There are {len(grc_df)} areas in the Tesco dataset.\")\n",
    "print(f\"{len(areas)} of them appear in the income dataset.\")"
   ]
  },
  {
   "cell_type": "markdown",
   "metadata": {},
   "source": [
    "(The numbers above are good news)"
   ]
  },
  {
   "cell_type": "code",
   "execution_count": 29,
   "metadata": {},
   "outputs": [
    {
     "data": {
      "text/plain": [
       "(983, 223)"
      ]
     },
     "execution_count": 29,
     "metadata": {},
     "output_type": "execute_result"
    }
   ],
   "source": [
    "df = grc_df.join(inc_df, how=\"inner\")\n",
    "df.shape"
   ]
  },
  {
   "cell_type": "markdown",
   "metadata": {},
   "source": [
    "### d. EDA"
   ]
  },
  {
   "cell_type": "code",
   "execution_count": 30,
   "metadata": {},
   "outputs": [
    {
     "data": {
      "image/png": "[encoded data removed]",
      "text/plain": [
       "<Figure size 720x504 with 4 Axes>"
      ]
     },
     "metadata": {
      "needs_background": "light"
     },
     "output_type": "display_data"
    }
   ],
   "source": [
    "fig, axes = plt.subplots(2, 2, figsize=(10,7), sharex=True, sharey=True)\n",
    "income_types = [\"Net annual income\", \"Total annual income\",\n",
    "                \"Net income before housing costs\",\n",
    "                \"Net income after housing costs\"]\n",
    "for i in range(4):\n",
    "    ax = axes[i//2, i%2]\n",
    "    title = income_types[i]\n",
    "    ax.set_title(title)\n",
    "    data = df[title]\n",
    "    ax.hist(data, bins=40)\n",
    "plt.show()"
   ]
  },
  {
   "cell_type": "code",
   "execution_count": 31,
   "metadata": {},
   "outputs": [
    {
     "data": {
      "image/png": "[encoded data removed]",
      "text/plain": [
       "<Figure size 432x288 with 1 Axes>"
      ]
     },
     "metadata": {
      "needs_background": "light"
     },
     "output_type": "display_data"
    }
   ],
   "source": [
    "df[\"density\"].hist(bins=60)\n",
    "plt.show()"
   ]
  },
  {
   "cell_type": "code",
   "execution_count": 32,
   "metadata": {},
   "outputs": [
    {
     "data": {
      "image/png": "[encoded data removed]",
      "text/plain": [
       "<Figure size 720x504 with 6 Axes>"
      ]
     },
     "metadata": {
      "needs_background": "light"
     },
     "output_type": "display_data"
    }
   ],
   "source": [
    "fig, axes = plt.subplots(2, 3, figsize=(10,7))\n",
    "nutrients = [\"fat\", \"saturate\", \"sugar\", \"protein\", \"carb\", \"fibre\"]\n",
    "for i in range(6):\n",
    "    ax = axes[i//3, i%3]\n",
    "    title = nutrients[i]\n",
    "    ax.set_title(title)\n",
    "    data = df[title]\n",
    "    ax.hist(data, bins=60)\n",
    "plt.show()"
   ]
  },
  {
   "cell_type": "markdown",
   "metadata": {},
   "source": [
    "### Type of products preferred by age groups\n",
    "In this section, the Spearman rank correlation between the products purchased (out of 17 types of products) in each area and the age groups in those areas.\n",
    "We only consider areas with representativeness socre bigger than 30%, the smallest round number from the mean)\n",
    "We also only consider correlations having a p-value smaller 0.05 for statistical signifiance.\n",
    "\n",
    "For now, we tke into account the correlations accounting for ALL areas present in the dataset. (Further we'll look on more specific types of areas)"
   ]
  },
  {
   "cell_type": "code",
   "execution_count": 177,
   "metadata": {},
   "outputs": [
    {
     "data": {
      "text/plain": [
       "count    983.000000\n",
       "mean       0.313241\n",
       "std        0.179997\n",
       "min        0.000000\n",
       "25%        0.168584\n",
       "50%        0.295219\n",
       "75%        0.430582\n",
       "max        1.000000\n",
       "Name: representativeness_norm, dtype: float64"
      ]
     },
     "execution_count": 177,
     "metadata": {},
     "output_type": "execute_result"
    }
   ],
   "source": [
    "df[\"representativeness_norm\"].describe()"
   ]
  },
  {
   "cell_type": "code",
   "execution_count": 328,
   "metadata": {},
   "outputs": [
    {
     "data": {
      "text/html": [
       "<div>\n",
       "<style scoped>\n",
       "    .dataframe tbody tr th:only-of-type {\n",
       "        vertical-align: middle;\n",
       "    }\n",
       "\n",
       "    .dataframe tbody tr th {\n",
       "        vertical-align: top;\n",
       "    }\n",
       "\n",
       "    .dataframe thead th {\n",
       "        text-align: right;\n",
       "    }\n",
       "</style>\n",
       "<table border=\"1\" class=\"dataframe\">\n",
       "  <thead>\n",
       "    <tr style=\"text-align: right;\">\n",
       "      <th></th>\n",
       "      <th>f_beer</th>\n",
       "      <th>f_dairy</th>\n",
       "      <th>f_eggs</th>\n",
       "      <th>f_fats_oils</th>\n",
       "      <th>f_fish</th>\n",
       "      <th>f_fruit_veg</th>\n",
       "      <th>f_grains</th>\n",
       "      <th>f_meat_red</th>\n",
       "      <th>f_poultry</th>\n",
       "      <th>f_readymade</th>\n",
       "      <th>...</th>\n",
       "      <th>f_soft_drinks</th>\n",
       "      <th>f_spirits</th>\n",
       "      <th>f_sweets</th>\n",
       "      <th>f_tea_coffee</th>\n",
       "      <th>f_water</th>\n",
       "      <th>f_wine</th>\n",
       "      <th>Net annual income</th>\n",
       "      <th>young_density</th>\n",
       "      <th>middle_age_density</th>\n",
       "      <th>old_density</th>\n",
       "    </tr>\n",
       "  </thead>\n",
       "  <tbody>\n",
       "    <tr>\n",
       "      <th>E02000001</th>\n",
       "      <td>0.026301</td>\n",
       "      <td>0.121112</td>\n",
       "      <td>0.011752</td>\n",
       "      <td>0.022868</td>\n",
       "      <td>0.021308</td>\n",
       "      <td>0.322855</td>\n",
       "      <td>0.122291</td>\n",
       "      <td>0.046465</td>\n",
       "      <td>0.018063</td>\n",
       "      <td>0.057101</td>\n",
       "      <td>...</td>\n",
       "      <td>0.021961</td>\n",
       "      <td>0.003292</td>\n",
       "      <td>0.139701</td>\n",
       "      <td>0.004960</td>\n",
       "      <td>0.022599</td>\n",
       "      <td>0.025993</td>\n",
       "      <td>43300</td>\n",
       "      <td>0.152236</td>\n",
       "      <td>0.650366</td>\n",
       "      <td>0.197398</td>\n",
       "    </tr>\n",
       "    <tr>\n",
       "      <th>E02000012</th>\n",
       "      <td>0.007193</td>\n",
       "      <td>0.092983</td>\n",
       "      <td>0.011414</td>\n",
       "      <td>0.034083</td>\n",
       "      <td>0.024773</td>\n",
       "      <td>0.250479</td>\n",
       "      <td>0.149202</td>\n",
       "      <td>0.046757</td>\n",
       "      <td>0.019861</td>\n",
       "      <td>0.052655</td>\n",
       "      <td>...</td>\n",
       "      <td>0.034725</td>\n",
       "      <td>0.002616</td>\n",
       "      <td>0.198840</td>\n",
       "      <td>0.010475</td>\n",
       "      <td>0.038164</td>\n",
       "      <td>0.009064</td>\n",
       "      <td>40000</td>\n",
       "      <td>0.267637</td>\n",
       "      <td>0.623503</td>\n",
       "      <td>0.108860</td>\n",
       "    </tr>\n",
       "    <tr>\n",
       "      <th>E02000017</th>\n",
       "      <td>0.012659</td>\n",
       "      <td>0.100989</td>\n",
       "      <td>0.012886</td>\n",
       "      <td>0.034156</td>\n",
       "      <td>0.020140</td>\n",
       "      <td>0.252008</td>\n",
       "      <td>0.146207</td>\n",
       "      <td>0.050662</td>\n",
       "      <td>0.019913</td>\n",
       "      <td>0.057973</td>\n",
       "      <td>...</td>\n",
       "      <td>0.037694</td>\n",
       "      <td>0.004314</td>\n",
       "      <td>0.176337</td>\n",
       "      <td>0.005671</td>\n",
       "      <td>0.040826</td>\n",
       "      <td>0.012157</td>\n",
       "      <td>37200</td>\n",
       "      <td>0.256880</td>\n",
       "      <td>0.659890</td>\n",
       "      <td>0.083230</td>\n",
       "    </tr>\n",
       "    <tr>\n",
       "      <th>E02000024</th>\n",
       "      <td>0.017858</td>\n",
       "      <td>0.100376</td>\n",
       "      <td>0.010945</td>\n",
       "      <td>0.032422</td>\n",
       "      <td>0.025921</td>\n",
       "      <td>0.290365</td>\n",
       "      <td>0.137714</td>\n",
       "      <td>0.056953</td>\n",
       "      <td>0.020304</td>\n",
       "      <td>0.057440</td>\n",
       "      <td>...</td>\n",
       "      <td>0.020593</td>\n",
       "      <td>0.002618</td>\n",
       "      <td>0.149189</td>\n",
       "      <td>0.006362</td>\n",
       "      <td>0.024376</td>\n",
       "      <td>0.027629</td>\n",
       "      <td>46500</td>\n",
       "      <td>0.213651</td>\n",
       "      <td>0.599725</td>\n",
       "      <td>0.186624</td>\n",
       "    </tr>\n",
       "    <tr>\n",
       "      <th>E02000025</th>\n",
       "      <td>0.018608</td>\n",
       "      <td>0.106568</td>\n",
       "      <td>0.010485</td>\n",
       "      <td>0.029142</td>\n",
       "      <td>0.022772</td>\n",
       "      <td>0.266955</td>\n",
       "      <td>0.141482</td>\n",
       "      <td>0.054936</td>\n",
       "      <td>0.020518</td>\n",
       "      <td>0.061321</td>\n",
       "      <td>...</td>\n",
       "      <td>0.023552</td>\n",
       "      <td>0.003391</td>\n",
       "      <td>0.171096</td>\n",
       "      <td>0.005765</td>\n",
       "      <td>0.023341</td>\n",
       "      <td>0.023239</td>\n",
       "      <td>37000</td>\n",
       "      <td>0.205226</td>\n",
       "      <td>0.638717</td>\n",
       "      <td>0.156057</td>\n",
       "    </tr>\n",
       "    <tr>\n",
       "      <th>...</th>\n",
       "      <td>...</td>\n",
       "      <td>...</td>\n",
       "      <td>...</td>\n",
       "      <td>...</td>\n",
       "      <td>...</td>\n",
       "      <td>...</td>\n",
       "      <td>...</td>\n",
       "      <td>...</td>\n",
       "      <td>...</td>\n",
       "      <td>...</td>\n",
       "      <td>...</td>\n",
       "      <td>...</td>\n",
       "      <td>...</td>\n",
       "      <td>...</td>\n",
       "      <td>...</td>\n",
       "      <td>...</td>\n",
       "      <td>...</td>\n",
       "      <td>...</td>\n",
       "      <td>...</td>\n",
       "      <td>...</td>\n",
       "      <td>...</td>\n",
       "    </tr>\n",
       "    <tr>\n",
       "      <th>E02006924</th>\n",
       "      <td>0.013242</td>\n",
       "      <td>0.108643</td>\n",
       "      <td>0.012644</td>\n",
       "      <td>0.039641</td>\n",
       "      <td>0.020217</td>\n",
       "      <td>0.268755</td>\n",
       "      <td>0.150594</td>\n",
       "      <td>0.033835</td>\n",
       "      <td>0.015115</td>\n",
       "      <td>0.050282</td>\n",
       "      <td>...</td>\n",
       "      <td>0.030015</td>\n",
       "      <td>0.002647</td>\n",
       "      <td>0.187202</td>\n",
       "      <td>0.005913</td>\n",
       "      <td>0.041075</td>\n",
       "      <td>0.005780</td>\n",
       "      <td>39600</td>\n",
       "      <td>0.230643</td>\n",
       "      <td>0.634567</td>\n",
       "      <td>0.134790</td>\n",
       "    </tr>\n",
       "    <tr>\n",
       "      <th>E02006925</th>\n",
       "      <td>0.007257</td>\n",
       "      <td>0.111869</td>\n",
       "      <td>0.012069</td>\n",
       "      <td>0.033861</td>\n",
       "      <td>0.018874</td>\n",
       "      <td>0.254220</td>\n",
       "      <td>0.164596</td>\n",
       "      <td>0.035725</td>\n",
       "      <td>0.016341</td>\n",
       "      <td>0.057315</td>\n",
       "      <td>...</td>\n",
       "      <td>0.030432</td>\n",
       "      <td>0.002792</td>\n",
       "      <td>0.194986</td>\n",
       "      <td>0.004722</td>\n",
       "      <td>0.034613</td>\n",
       "      <td>0.006105</td>\n",
       "      <td>44600</td>\n",
       "      <td>0.251207</td>\n",
       "      <td>0.602499</td>\n",
       "      <td>0.146295</td>\n",
       "    </tr>\n",
       "    <tr>\n",
       "      <th>E02006928</th>\n",
       "      <td>0.018740</td>\n",
       "      <td>0.103197</td>\n",
       "      <td>0.013560</td>\n",
       "      <td>0.027801</td>\n",
       "      <td>0.023117</td>\n",
       "      <td>0.300439</td>\n",
       "      <td>0.137821</td>\n",
       "      <td>0.053312</td>\n",
       "      <td>0.023936</td>\n",
       "      <td>0.051991</td>\n",
       "      <td>...</td>\n",
       "      <td>0.028109</td>\n",
       "      <td>0.002955</td>\n",
       "      <td>0.142371</td>\n",
       "      <td>0.005824</td>\n",
       "      <td>0.033721</td>\n",
       "      <td>0.016427</td>\n",
       "      <td>49100</td>\n",
       "      <td>0.198894</td>\n",
       "      <td>0.763875</td>\n",
       "      <td>0.037231</td>\n",
       "    </tr>\n",
       "    <tr>\n",
       "      <th>E02006929</th>\n",
       "      <td>0.015957</td>\n",
       "      <td>0.105020</td>\n",
       "      <td>0.012133</td>\n",
       "      <td>0.029194</td>\n",
       "      <td>0.021565</td>\n",
       "      <td>0.281111</td>\n",
       "      <td>0.151645</td>\n",
       "      <td>0.048121</td>\n",
       "      <td>0.019608</td>\n",
       "      <td>0.065102</td>\n",
       "      <td>...</td>\n",
       "      <td>0.032803</td>\n",
       "      <td>0.003040</td>\n",
       "      <td>0.147214</td>\n",
       "      <td>0.005320</td>\n",
       "      <td>0.029836</td>\n",
       "      <td>0.016807</td>\n",
       "      <td>42700</td>\n",
       "      <td>0.195888</td>\n",
       "      <td>0.721763</td>\n",
       "      <td>0.082349</td>\n",
       "    </tr>\n",
       "    <tr>\n",
       "      <th>E02006931</th>\n",
       "      <td>0.016597</td>\n",
       "      <td>0.101601</td>\n",
       "      <td>0.013588</td>\n",
       "      <td>0.033044</td>\n",
       "      <td>0.025388</td>\n",
       "      <td>0.288197</td>\n",
       "      <td>0.140753</td>\n",
       "      <td>0.060488</td>\n",
       "      <td>0.021698</td>\n",
       "      <td>0.053218</td>\n",
       "      <td>...</td>\n",
       "      <td>0.028858</td>\n",
       "      <td>0.003621</td>\n",
       "      <td>0.143407</td>\n",
       "      <td>0.005631</td>\n",
       "      <td>0.029302</td>\n",
       "      <td>0.017292</td>\n",
       "      <td>41000</td>\n",
       "      <td>0.195215</td>\n",
       "      <td>0.690909</td>\n",
       "      <td>0.113876</td>\n",
       "    </tr>\n",
       "  </tbody>\n",
       "</table>\n",
       "<p>481 rows × 21 columns</p>\n",
       "</div>"
      ],
      "text/plain": [
       "             f_beer   f_dairy    f_eggs  f_fats_oils    f_fish  f_fruit_veg  \\\n",
       "E02000001  0.026301  0.121112  0.011752     0.022868  0.021308     0.322855   \n",
       "E02000012  0.007193  0.092983  0.011414     0.034083  0.024773     0.250479   \n",
       "E02000017  0.012659  0.100989  0.012886     0.034156  0.020140     0.252008   \n",
       "E02000024  0.017858  0.100376  0.010945     0.032422  0.025921     0.290365   \n",
       "E02000025  0.018608  0.106568  0.010485     0.029142  0.022772     0.266955   \n",
       "...             ...       ...       ...          ...       ...          ...   \n",
       "E02006924  0.013242  0.108643  0.012644     0.039641  0.020217     0.268755   \n",
       "E02006925  0.007257  0.111869  0.012069     0.033861  0.018874     0.254220   \n",
       "E02006928  0.018740  0.103197  0.013560     0.027801  0.023117     0.300439   \n",
       "E02006929  0.015957  0.105020  0.012133     0.029194  0.021565     0.281111   \n",
       "E02006931  0.016597  0.101601  0.013588     0.033044  0.025388     0.288197   \n",
       "\n",
       "           f_grains  f_meat_red  f_poultry  f_readymade  ...  f_soft_drinks  \\\n",
       "E02000001  0.122291    0.046465   0.018063     0.057101  ...       0.021961   \n",
       "E02000012  0.149202    0.046757   0.019861     0.052655  ...       0.034725   \n",
       "E02000017  0.146207    0.050662   0.019913     0.057973  ...       0.037694   \n",
       "E02000024  0.137714    0.056953   0.020304     0.057440  ...       0.020593   \n",
       "E02000025  0.141482    0.054936   0.020518     0.061321  ...       0.023552   \n",
       "...             ...         ...        ...          ...  ...            ...   \n",
       "E02006924  0.150594    0.033835   0.015115     0.050282  ...       0.030015   \n",
       "E02006925  0.164596    0.035725   0.016341     0.057315  ...       0.030432   \n",
       "E02006928  0.137821    0.053312   0.023936     0.051991  ...       0.028109   \n",
       "E02006929  0.151645    0.048121   0.019608     0.065102  ...       0.032803   \n",
       "E02006931  0.140753    0.060488   0.021698     0.053218  ...       0.028858   \n",
       "\n",
       "           f_spirits  f_sweets  f_tea_coffee   f_water    f_wine  \\\n",
       "E02000001   0.003292  0.139701      0.004960  0.022599  0.025993   \n",
       "E02000012   0.002616  0.198840      0.010475  0.038164  0.009064   \n",
       "E02000017   0.004314  0.176337      0.005671  0.040826  0.012157   \n",
       "E02000024   0.002618  0.149189      0.006362  0.024376  0.027629   \n",
       "E02000025   0.003391  0.171096      0.005765  0.023341  0.023239   \n",
       "...              ...       ...           ...       ...       ...   \n",
       "E02006924   0.002647  0.187202      0.005913  0.041075  0.005780   \n",
       "E02006925   0.002792  0.194986      0.004722  0.034613  0.006105   \n",
       "E02006928   0.002955  0.142371      0.005824  0.033721  0.016427   \n",
       "E02006929   0.003040  0.147214      0.005320  0.029836  0.016807   \n",
       "E02006931   0.003621  0.143407      0.005631  0.029302  0.017292   \n",
       "\n",
       "           Net annual income  young_density  middle_age_density  old_density  \n",
       "E02000001              43300       0.152236            0.650366     0.197398  \n",
       "E02000012              40000       0.267637            0.623503     0.108860  \n",
       "E02000017              37200       0.256880            0.659890     0.083230  \n",
       "E02000024              46500       0.213651            0.599725     0.186624  \n",
       "E02000025              37000       0.205226            0.638717     0.156057  \n",
       "...                      ...            ...                 ...          ...  \n",
       "E02006924              39600       0.230643            0.634567     0.134790  \n",
       "E02006925              44600       0.251207            0.602499     0.146295  \n",
       "E02006928              49100       0.198894            0.763875     0.037231  \n",
       "E02006929              42700       0.195888            0.721763     0.082349  \n",
       "E02006931              41000       0.195215            0.690909     0.113876  \n",
       "\n",
       "[481 rows x 21 columns]"
      ]
     },
     "execution_count": 328,
     "metadata": {},
     "output_type": "execute_result"
    }
   ],
   "source": [
    "df[\"young_density\"] = df[\"age_0_17\"]/df[\"population\"]\n",
    "df[\"middle_age_density\"] = df[\"age_18_64\"]/df[\"population\"]\n",
    "df[\"old_density\"] = df[\"age_65+\"]/df[\"population\"]\n",
    "smaller_df = df[df[\"representativeness_norm\"]>0.30][[\"f_beer\",\"f_dairy\",\"f_eggs\",\"f_fats_oils\"\n",
    "                                                     ,\"f_fish\",\"f_fruit_veg\",\"f_grains\",\"f_meat_red\"\n",
    "                                                     ,\"f_poultry\",\"f_readymade\",\"f_sauces\",\"f_soft_drinks\"\n",
    "                                                     ,\"f_spirits\",\"f_sweets\",\"f_tea_coffee\",\"f_water\",\"f_wine\"\n",
    "                                                     ,\"Net annual income\", \"young_density\"\n",
    "                                                     , \"middle_age_density\", \"old_density\"]]\n",
    "smaller_df"
   ]
  },
  {
   "cell_type": "code",
   "execution_count": 329,
   "metadata": {},
   "outputs": [
    {
     "name": "stdout",
     "output_type": "stream",
     "text": [
      "(21, 21)\n"
     ]
    }
   ],
   "source": [
    "#compute Spearman rank correlation and take only the relevant ones (p < 0.05)\n",
    "rho, p_val = stats.spearmanr(smaller_df, axis = 0)\n",
    "rho = pd.DataFrame(rho, index = smaller_df.columns, columns = smaller_df.columns)\n",
    "print(rho.shape)\n",
    "rho.where(p_val < 0.05, inplace = True)"
   ]
  },
  {
   "cell_type": "code",
   "execution_count": 358,
   "metadata": {},
   "outputs": [
    {
     "name": "stderr",
     "output_type": "stream",
     "text": [
      "/opt/anaconda3/lib/python3.7/site-packages/seaborn/_decorators.py:43: FutureWarning: Pass the following variables as keyword args: x, y. From version 0.12, the only valid positional argument will be `data`, and passing other arguments without an explicit keyword will result in an error or misinterpretation.\n",
      "  FutureWarning\n"
     ]
    },
    {
     "data": {
      "text/plain": [
       "<matplotlib.axes._subplots.AxesSubplot at 0x1a78c19510>"
      ]
     },
     "execution_count": 358,
     "metadata": {},
     "output_type": "execute_result"
    },
    {
     "data": {
      "image/png": "[encoded data removed]",
      "text/plain": [
       "<Figure size 1008x360 with 1 Axes>"
      ]
     },
     "metadata": {
      "needs_background": "light"
     },
     "output_type": "display_data"
    }
   ],
   "source": [
    "plt.figure(figsize = (14,5))\n",
    "y_ax = rho[abs(rho['young_density']) > 0.107]['young_density'].drop([\"young_density\", \"Net annual income\", \"middle_age_density\"])\n",
    "x_ax = rho[abs(rho['young_density']) > 0.107].drop([\"young_density\", \"Net annual income\", \"middle_age_density\"]).index\n",
    "sns.barplot(x_ax, y_ax)"
   ]
  },
  {
   "cell_type": "code",
   "execution_count": 359,
   "metadata": {},
   "outputs": [
    {
     "name": "stderr",
     "output_type": "stream",
     "text": [
      "/opt/anaconda3/lib/python3.7/site-packages/seaborn/_decorators.py:43: FutureWarning: Pass the following variables as keyword args: x, y. From version 0.12, the only valid positional argument will be `data`, and passing other arguments without an explicit keyword will result in an error or misinterpretation.\n",
      "  FutureWarning\n"
     ]
    },
    {
     "data": {
      "text/plain": [
       "<matplotlib.axes._subplots.AxesSubplot at 0x1a788caed0>"
      ]
     },
     "execution_count": 359,
     "metadata": {},
     "output_type": "execute_result"
    },
    {
     "data": {
      "image/png": "[encoded data removed]",
      "text/plain": [
       "<Figure size 1008x360 with 1 Axes>"
      ]
     },
     "metadata": {
      "needs_background": "light"
     },
     "output_type": "display_data"
    }
   ],
   "source": [
    "plt.figure(figsize = (14,5))\n",
    "y_ax = rho[abs(rho['middle_age_density']) > 0.107]['middle_age_density'].drop([\"young_density\",\"middle_age_density\", \"old_density\"])\n",
    "x_ax = rho[abs(rho['middle_age_density'])>0.107].drop([\"young_density\",\"middle_age_density\", \"old_density\"]).index\n",
    "sns.barplot(x_ax, y_ax )"
   ]
  },
  {
   "cell_type": "code",
   "execution_count": 360,
   "metadata": {},
   "outputs": [
    {
     "name": "stderr",
     "output_type": "stream",
     "text": [
      "/opt/anaconda3/lib/python3.7/site-packages/seaborn/_decorators.py:43: FutureWarning: Pass the following variables as keyword args: x, y. From version 0.12, the only valid positional argument will be `data`, and passing other arguments without an explicit keyword will result in an error or misinterpretation.\n",
      "  FutureWarning\n"
     ]
    },
    {
     "data": {
      "text/plain": [
       "<matplotlib.axes._subplots.AxesSubplot at 0x1a78f4c690>"
      ]
     },
     "execution_count": 360,
     "metadata": {},
     "output_type": "execute_result"
    },
    {
     "data": {
      "image/png": "[encoded data removed]",
      "text/plain": [
       "<Figure size 1008x360 with 1 Axes>"
      ]
     },
     "metadata": {
      "needs_background": "light"
     },
     "output_type": "display_data"
    }
   ],
   "source": [
    "plt.figure(figsize = (14,5))\n",
    "y_ax = rho[abs(rho['old_density']) >= 0.107]['old_density'].drop([\"Net annual income\", \"middle_age_density\", \"old_density\"])\n",
    "x_ax = rho[abs(rho['old_density'])>=0.107].drop([\"Net annual income\", \"middle_age_density\", \"old_density\"]).index\n",
    "sns.barplot(x_ax, y_ax)"
   ]
  },
  {
   "cell_type": "code",
   "execution_count": 361,
   "metadata": {},
   "outputs": [
    {
     "name": "stderr",
     "output_type": "stream",
     "text": [
      "/opt/anaconda3/lib/python3.7/site-packages/seaborn/_decorators.py:43: FutureWarning: Pass the following variables as keyword args: x, y. From version 0.12, the only valid positional argument will be `data`, and passing other arguments without an explicit keyword will result in an error or misinterpretation.\n",
      "  FutureWarning\n"
     ]
    },
    {
     "data": {
      "text/plain": [
       "<matplotlib.axes._subplots.AxesSubplot at 0x1a78f45f90>"
      ]
     },
     "execution_count": 361,
     "metadata": {},
     "output_type": "execute_result"
    },
    {
     "data": {
      "image/png": "[encoded data removed]",
      "text/plain": [
       "<Figure size 1008x360 with 1 Axes>"
      ]
     },
     "metadata": {
      "needs_background": "light"
     },
     "output_type": "display_data"
    }
   ],
   "source": [
    "plt.figure(figsize = (14, 5))\n",
    "y_ax = rho[abs(rho['Net annual income']) >= 0.107]['Net annual income'].drop([\"Net annual income\", \"young_density\", \"old_density\"])\n",
    "x_ax = rho[abs(rho['Net annual income'])>=0.107].drop([\"Net annual income\", \"young_density\", \"old_density\"]).index\n",
    "sns.barplot(x_ax, y_ax )"
   ]
  },
  {
   "cell_type": "code",
   "execution_count": null,
   "metadata": {},
   "outputs": [],
   "source": []
  },
  {
   "cell_type": "markdown",
   "metadata": {},
   "source": [
    "Now let's look at the same correlations, but within specific groups of areas. These groups will be split between : Net income (low, medium, high) and density (low, medium, high) "
   ]
  },
  {
   "cell_type": "code",
   "execution_count": 342,
   "metadata": {},
   "outputs": [
    {
     "data": {
      "text/plain": [
       "count      983.000000\n",
       "mean     39955.442523\n",
       "std       6949.133514\n",
       "min      27800.000000\n",
       "25%      35000.000000\n",
       "50%      38800.000000\n",
       "75%      43150.000000\n",
       "max      93800.000000\n",
       "Name: Net annual income, dtype: float64"
      ]
     },
     "execution_count": 342,
     "metadata": {},
     "output_type": "execute_result"
    }
   ],
   "source": [
    "df[\"Net annual income\"].describe()"
   ]
  },
  {
   "cell_type": "code",
   "execution_count": 343,
   "metadata": {},
   "outputs": [],
   "source": [
    "#from the above numbers, we see a net difference between net annual income. \n",
    "#Define low incomes as the range between the min and the  25th_percentile, that is : [27'800, 35'000]\n",
    "#Medium income as the income between the 25th and 75th percentile : [35'000, 43'150]\n",
    "#High : above Medium"
   ]
  },
  {
   "cell_type": "code",
   "execution_count": 344,
   "metadata": {},
   "outputs": [],
   "source": [
    "low_inc_df = smaller_df[(smaller_df[\"Net annual income\"] >= 27800) & (smaller_df[\"Net annual income\"] <= 35000)]\n",
    "med_inc_df = smaller_df[(smaller_df[\"Net annual income\"] >35000) & (smaller_df[\"Net annual income\"] <= 43150)]\n",
    "high_inc_df = smaller_df[(smaller_df[\"Net annual income\"] >43150)]"
   ]
  },
  {
   "cell_type": "code",
   "execution_count": 345,
   "metadata": {},
   "outputs": [],
   "source": [
    "#PLOTS FOR THE YOUNGS\n",
    "rho_low_inc, p_val_low_inc = stats.spearmanr(low_inc_df, axis = 0)\n",
    "rho_low_inc = pd.DataFrame(rho_low_inc, index = low_inc_df.columns, columns = low_inc_df.columns)\n",
    "rho_low_inc.where(p_val_low_inc < 0.05,inplace = True)"
   ]
  },
  {
   "cell_type": "code",
   "execution_count": 364,
   "metadata": {},
   "outputs": [
    {
     "name": "stderr",
     "output_type": "stream",
     "text": [
      "/opt/anaconda3/lib/python3.7/site-packages/seaborn/_decorators.py:43: FutureWarning: Pass the following variables as keyword args: x, y. From version 0.12, the only valid positional argument will be `data`, and passing other arguments without an explicit keyword will result in an error or misinterpretation.\n",
      "  FutureWarning\n"
     ]
    },
    {
     "data": {
      "text/plain": [
       "Text(0.5, 1.0, 'low income areas')"
      ]
     },
     "execution_count": 364,
     "metadata": {},
     "output_type": "execute_result"
    },
    {
     "data": {
      "image/png": "[encoded data removed]",
      "text/plain": [
       "<Figure size 1008x360 with 1 Axes>"
      ]
     },
     "metadata": {
      "needs_background": "light"
     },
     "output_type": "display_data"
    }
   ],
   "source": [
    "plt.figure(figsize = (14,5))\n",
    "y_ax = rho_low_inc[abs(rho_low_inc['young_density']) > 0.107]['young_density'].drop([\"Net annual income\", \n",
    "                                                                                     \"young_density\",\n",
    "                                                                                     \"middle_age_density\"])\n",
    "\n",
    "x_ax = rho_low_inc[abs(rho_low_inc['young_density']) > 0.107].drop([\"Net annual income\", \n",
    "                                                                    \"young_density\",\n",
    "                                                                    \"middle_age_density\"]).index\n",
    "sns.barplot(x_ax, y_ax )\n",
    "plt.title(\"low income areas\")"
   ]
  },
  {
   "cell_type": "code",
   "execution_count": 347,
   "metadata": {},
   "outputs": [
    {
     "name": "stdout",
     "output_type": "stream",
     "text": [
      "(21, 21)\n"
     ]
    }
   ],
   "source": [
    "rho_med_inc, p_val_med_inc = stats.spearmanr(med_inc_df, axis = 0)\n",
    "rho_med_inc = pd.DataFrame(rho_med_inc, index = med_inc_df.columns, columns = med_inc_df.columns)\n",
    "print(rho_med_inc.shape)\n",
    "rho_med_inc.where(p_val_med_inc < 0.05,inplace = True)"
   ]
  },
  {
   "cell_type": "code",
   "execution_count": 372,
   "metadata": {},
   "outputs": [
    {
     "name": "stderr",
     "output_type": "stream",
     "text": [
      "/opt/anaconda3/lib/python3.7/site-packages/seaborn/_decorators.py:43: FutureWarning: Pass the following variables as keyword args: x, y. From version 0.12, the only valid positional argument will be `data`, and passing other arguments without an explicit keyword will result in an error or misinterpretation.\n",
      "  FutureWarning\n"
     ]
    },
    {
     "data": {
      "text/plain": [
       "Text(0.5, 1.0, 'med income areas')"
      ]
     },
     "execution_count": 372,
     "metadata": {},
     "output_type": "execute_result"
    },
    {
     "data": {
      "image/png": "[encoded data removed]",
      "text/plain": [
       "<Figure size 1008x360 with 1 Axes>"
      ]
     },
     "metadata": {
      "needs_background": "light"
     },
     "output_type": "display_data"
    }
   ],
   "source": [
    "plt.figure(figsize = (14,5))\n",
    "y_ax = rho_med_inc[abs(rho_med_inc['young_density']) > 0.1]['young_density'].drop([\"Net annual income\",\n",
    "                                                                                   \"young_density\",\n",
    "                                                                                   \"middle_age_density\"])\n",
    "\n",
    "x_ax = rho_med_inc[abs(rho_med_inc['young_density']) > 0.1].drop([\"Net annual income\",\n",
    "                                                                  \"young_density\",\n",
    "                                                                  \"middle_age_density\"]).index\n",
    "\n",
    "sns.barplot(x_ax, y_ax)\n",
    "plt.title(\"med income areas\")"
   ]
  },
  {
   "cell_type": "code",
   "execution_count": 349,
   "metadata": {},
   "outputs": [],
   "source": [
    "rho_high_inc, p_val_high_inc = stats.spearmanr(high_inc_df, axis = 0)\n",
    "rho_high_inc = pd.DataFrame(rho_high_inc, index = high_inc_df.columns, columns = high_inc_df.columns)\n",
    "rho_high_inc.where(p_val_high_inc < 0.05,inplace = True)"
   ]
  },
  {
   "cell_type": "code",
   "execution_count": 370,
   "metadata": {},
   "outputs": [
    {
     "name": "stderr",
     "output_type": "stream",
     "text": [
      "/opt/anaconda3/lib/python3.7/site-packages/seaborn/_decorators.py:43: FutureWarning: Pass the following variables as keyword args: x, y. From version 0.12, the only valid positional argument will be `data`, and passing other arguments without an explicit keyword will result in an error or misinterpretation.\n",
      "  FutureWarning\n"
     ]
    },
    {
     "data": {
      "text/plain": [
       "Text(0.5, 1.0, 'High income areas')"
      ]
     },
     "execution_count": 370,
     "metadata": {},
     "output_type": "execute_result"
    },
    {
     "data": {
      "image/png": "[encoded data removed]",
      "text/plain": [
       "<Figure size 1008x360 with 1 Axes>"
      ]
     },
     "metadata": {
      "needs_background": "light"
     },
     "output_type": "display_data"
    }
   ],
   "source": [
    "plt.figure(figsize = (14,5))\n",
    "y_ax = rho_high_inc[abs(rho_high_inc['young_density']) > 0.1]['young_density'].drop([\"old_density\",\n",
    "                                                                                     \"young_density\",\n",
    "                                                                                     \"middle_age_density\"])\n",
    "\n",
    "x_ax = rho_high_inc[abs(rho_high_inc['young_density']) > 0.1].drop([\"old_density\",\n",
    "                                                                    \"young_density\",\n",
    "                                                                    \"middle_age_density\"]).index\n",
    "sns.barplot(x_ax, y_ax)\n",
    "plt.title(\"High income areas\")"
   ]
  },
  {
   "cell_type": "code",
   "execution_count": 375,
   "metadata": {},
   "outputs": [
    {
     "name": "stderr",
     "output_type": "stream",
     "text": [
      "/opt/anaconda3/lib/python3.7/site-packages/seaborn/_decorators.py:43: FutureWarning: Pass the following variables as keyword args: x, y. From version 0.12, the only valid positional argument will be `data`, and passing other arguments without an explicit keyword will result in an error or misinterpretation.\n",
      "  FutureWarning\n"
     ]
    },
    {
     "data": {
      "text/plain": [
       "Text(0.5, 1.0, 'Low income areas')"
      ]
     },
     "execution_count": 375,
     "metadata": {},
     "output_type": "execute_result"
    },
    {
     "data": {
      "image/png": "[encoded data removed]",
      "text/plain": [
       "<Figure size 1008x360 with 1 Axes>"
      ]
     },
     "metadata": {
      "needs_background": "light"
     },
     "output_type": "display_data"
    }
   ],
   "source": [
    "#PLOTS FOR THE MIDDLE AGE\n",
    "plt.figure(figsize = (14,5))\n",
    "y_ax = rho_low_inc[abs(rho_low_inc['middle_age_density']) > 0.1]['middle_age_density'].drop([\"Net annual income\",\n",
    "                                                                                             \"young_density\",\n",
    "                                                                                             \"middle_age_density\",\n",
    "                                                                                             \"old_density\"])\n",
    "\n",
    "x_ax = rho_low_inc[abs(rho_low_inc['middle_age_density']) > 0.1].drop([\"Net annual income\",\n",
    "                                                                       \"young_density\",\n",
    "                                                                       \"middle_age_density\",\n",
    "                                                                       \"old_density\"]).index\n",
    "sns.barplot(x_ax, y_ax)\n",
    "plt.title(\"Low income areas\")"
   ]
  },
  {
   "cell_type": "code",
   "execution_count": 378,
   "metadata": {},
   "outputs": [
    {
     "name": "stderr",
     "output_type": "stream",
     "text": [
      "/opt/anaconda3/lib/python3.7/site-packages/seaborn/_decorators.py:43: FutureWarning: Pass the following variables as keyword args: x, y. From version 0.12, the only valid positional argument will be `data`, and passing other arguments without an explicit keyword will result in an error or misinterpretation.\n",
      "  FutureWarning\n"
     ]
    },
    {
     "data": {
      "text/plain": [
       "Text(0.5, 1.0, 'High income areas')"
      ]
     },
     "execution_count": 378,
     "metadata": {},
     "output_type": "execute_result"
    },
    {
     "data": {
      "image/png": "[encoded data removed]",
      "text/plain": [
       "<Figure size 1008x360 with 1 Axes>"
      ]
     },
     "metadata": {
      "needs_background": "light"
     },
     "output_type": "display_data"
    }
   ],
   "source": [
    "plt.figure(figsize = (14,5))\n",
    "y_ax = rho_high_inc[abs(rho_high_inc['middle_age_density']) > 0.1]['middle_age_density'].drop([\"middle_age_density\", \"young_density\", \"old_density\"])\n",
    "\n",
    "x_ax = rho_high_inc[abs(rho_high_inc['middle_age_density']) > 0.1].drop([\"middle_age_density\",\"young_density\", \"old_density\"]).index\n",
    "sns.barplot(x_ax, y_ax)\n",
    "plt.title(\"High income areas\")"
   ]
  },
  {
   "cell_type": "code",
   "execution_count": null,
   "metadata": {},
   "outputs": [],
   "source": []
  },
  {
   "cell_type": "markdown",
   "metadata": {},
   "source": [
    "## What is the typical product of these different income classes ? \n",
    "\n",
    "After having found this typical product, let's look at the food diversity and energy of nutrients etc...\n"
   ]
  },
  {
   "cell_type": "code",
   "execution_count": null,
   "metadata": {},
   "outputs": [],
   "source": []
  },
  {
   "cell_type": "code",
   "execution_count": null,
   "metadata": {},
   "outputs": [],
   "source": []
  },
  {
   "cell_type": "code",
   "execution_count": null,
   "metadata": {},
   "outputs": [],
   "source": []
  }
 ],
 "metadata": {
  "kernelspec": {
   "display_name": "Python 3",
   "language": "python",
   "name": "python3"
  },
  "language_info": {
   "codemirror_mode": {
    "name": "ipython",
    "version": 3
   },
   "file_extension": ".py",
   "mimetype": "text/x-python",
   "name": "python",
   "nbconvert_exporter": "python",
   "pygments_lexer": "ipython3",
   "version": "3.7.6"
  }
 },
 "nbformat": 4,
 "nbformat_minor": 4
}

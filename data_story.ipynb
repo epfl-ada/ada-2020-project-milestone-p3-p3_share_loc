{
 "cells": [
  {
   "cell_type": "markdown",
   "metadata": {},
   "source": [
    "# DiHabitIs,  a data story made by ShareLoc\n",
    "\n",
    "In a [study](https://www.ncbi.nlm.nih.gov/pmc/articles/PMC7029018/) analyzing a record of 420M food items purchased at Tesco in greater London, researchers identified nutrients that were highly correlated with diabetes. \n",
    "\n",
    "We, ShareLoc, would like to dig further in this dataset and look if other factors correlate with diabetes risk. \n",
    "Note that purchases have been grouped into areas, meaning that we can not perform analysis on individuals, but rather have information about the general tendencies in a specific area.  \n",
    "\n",
    "## Age study (make this title fun)\n",
    "\n",
    "Our first step is to differentiate areas by age. We have access to three groups of age : \n",
    "- young : 0 to 17 years\n",
    "- adult : 18 to 64 years\n",
    "- old   : 65+ years\n",
    "\n",
    "We computed the age densities of each population (e.g young_density = #young/total_population) and hereby plot the correlations between the age densities and diabets prevalence : we only took into account correlations having a p-value < 0.05\n",
    "\n",
    "![Alt](corr_age_diab.png)\n",
    "\n",
    "**Surprising !** The younger the population, the higher its diabetes prevalence score. Older population tend not to be affected though. So what do younger areas like so much that adults don't like ?  \n",
    "\n",
    "![Alt](corr_prod_age.jpg)\n",
    "\n",
    "**How Sweet !**\n",
    "(Not so) Surprisingly, "
   ]
  },
  {
   "cell_type": "code",
   "execution_count": null,
   "metadata": {},
   "outputs": [],
   "source": []
  }
 ],
 "metadata": {
  "kernelspec": {
   "display_name": "Python 3",
   "language": "python",
   "name": "python3"
  },
  "language_info": {
   "codemirror_mode": {
    "name": "ipython",
    "version": 3
   },
   "file_extension": ".py",
   "mimetype": "text/x-python",
   "name": "python",
   "nbconvert_exporter": "python",
   "pygments_lexer": "ipython3",
   "version": "3.7.3"
  }
 },
 "nbformat": 4,
 "nbformat_minor": 4
}

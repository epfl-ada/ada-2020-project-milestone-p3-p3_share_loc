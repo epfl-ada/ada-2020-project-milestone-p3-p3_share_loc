{
 "cells": [
  {
   "cell_type": "code",
   "execution_count": 424,
   "metadata": {},
   "outputs": [],
   "source": [
    "import pandas as pd\n",
    "import matplotlib.pyplot as plt\n",
    "import seaborn as sns\n",
    "from scipy import stats"
   ]
  },
  {
   "cell_type": "markdown",
   "metadata": {},
   "source": [
    "### Data Import and cleaning"
   ]
  },
  {
   "cell_type": "code",
   "execution_count": 425,
   "metadata": {},
   "outputs": [
    {
     "data": {
      "text/html": [
       "<div>\n",
       "<style scoped>\n",
       "    .dataframe tbody tr th:only-of-type {\n",
       "        vertical-align: middle;\n",
       "    }\n",
       "\n",
       "    .dataframe tbody tr th {\n",
       "        vertical-align: top;\n",
       "    }\n",
       "\n",
       "    .dataframe thead th {\n",
       "        text-align: right;\n",
       "    }\n",
       "</style>\n",
       "<table border=\"1\" class=\"dataframe\">\n",
       "  <thead>\n",
       "    <tr style=\"text-align: right;\">\n",
       "      <th></th>\n",
       "      <th>weight</th>\n",
       "      <th>weight_perc2.5</th>\n",
       "      <th>weight_perc25</th>\n",
       "      <th>weight_perc50</th>\n",
       "      <th>weight_perc75</th>\n",
       "      <th>weight_perc97.5</th>\n",
       "      <th>weight_std</th>\n",
       "      <th>weight_ci95</th>\n",
       "      <th>volume</th>\n",
       "      <th>volume_perc2.5</th>\n",
       "      <th>...</th>\n",
       "      <th>man_day</th>\n",
       "      <th>population</th>\n",
       "      <th>male</th>\n",
       "      <th>female</th>\n",
       "      <th>age_0_17</th>\n",
       "      <th>age_18_64</th>\n",
       "      <th>age_65+</th>\n",
       "      <th>avg_age</th>\n",
       "      <th>area_sq_km</th>\n",
       "      <th>people_per_sq_km</th>\n",
       "    </tr>\n",
       "    <tr>\n",
       "      <th>area_id</th>\n",
       "      <th></th>\n",
       "      <th></th>\n",
       "      <th></th>\n",
       "      <th></th>\n",
       "      <th></th>\n",
       "      <th></th>\n",
       "      <th></th>\n",
       "      <th></th>\n",
       "      <th></th>\n",
       "      <th></th>\n",
       "      <th></th>\n",
       "      <th></th>\n",
       "      <th></th>\n",
       "      <th></th>\n",
       "      <th></th>\n",
       "      <th></th>\n",
       "      <th></th>\n",
       "      <th></th>\n",
       "      <th></th>\n",
       "      <th></th>\n",
       "      <th></th>\n",
       "    </tr>\n",
       "  </thead>\n",
       "  <tbody>\n",
       "    <tr>\n",
       "      <th>E05000026</th>\n",
       "      <td>449.535137</td>\n",
       "      <td>32.5</td>\n",
       "      <td>166.4</td>\n",
       "      <td>300.0</td>\n",
       "      <td>500.0</td>\n",
       "      <td>1500.0</td>\n",
       "      <td>771.349423</td>\n",
       "      <td>3.716832</td>\n",
       "      <td>125.960833</td>\n",
       "      <td>11.00</td>\n",
       "      <td>...</td>\n",
       "      <td>37315</td>\n",
       "      <td>14370.0</td>\n",
       "      <td>7469.0</td>\n",
       "      <td>6901.0</td>\n",
       "      <td>4211.0</td>\n",
       "      <td>9421.0</td>\n",
       "      <td>738.0</td>\n",
       "      <td>29.572999</td>\n",
       "      <td>1.26</td>\n",
       "      <td>11404.761905</td>\n",
       "    </tr>\n",
       "    <tr>\n",
       "      <th>E05000027</th>\n",
       "      <td>413.130263</td>\n",
       "      <td>32.5</td>\n",
       "      <td>150.0</td>\n",
       "      <td>300.0</td>\n",
       "      <td>500.0</td>\n",
       "      <td>1500.0</td>\n",
       "      <td>626.395178</td>\n",
       "      <td>5.164174</td>\n",
       "      <td>110.664114</td>\n",
       "      <td>15.00</td>\n",
       "      <td>...</td>\n",
       "      <td>14474</td>\n",
       "      <td>10845.0</td>\n",
       "      <td>5228.0</td>\n",
       "      <td>5617.0</td>\n",
       "      <td>3205.0</td>\n",
       "      <td>6608.0</td>\n",
       "      <td>1032.0</td>\n",
       "      <td>33.568004</td>\n",
       "      <td>1.36</td>\n",
       "      <td>7974.264706</td>\n",
       "    </tr>\n",
       "    <tr>\n",
       "      <th>E05000028</th>\n",
       "      <td>407.100472</td>\n",
       "      <td>32.5</td>\n",
       "      <td>160.0</td>\n",
       "      <td>300.0</td>\n",
       "      <td>500.0</td>\n",
       "      <td>1200.0</td>\n",
       "      <td>545.890959</td>\n",
       "      <td>2.710677</td>\n",
       "      <td>121.990710</td>\n",
       "      <td>11.00</td>\n",
       "      <td>...</td>\n",
       "      <td>32138</td>\n",
       "      <td>13856.0</td>\n",
       "      <td>6750.0</td>\n",
       "      <td>7106.0</td>\n",
       "      <td>4180.0</td>\n",
       "      <td>8537.0</td>\n",
       "      <td>1139.0</td>\n",
       "      <td>32.032693</td>\n",
       "      <td>1.29</td>\n",
       "      <td>10741.085271</td>\n",
       "    </tr>\n",
       "    <tr>\n",
       "      <th>E05000029</th>\n",
       "      <td>384.173858</td>\n",
       "      <td>30.0</td>\n",
       "      <td>150.0</td>\n",
       "      <td>250.0</td>\n",
       "      <td>454.0</td>\n",
       "      <td>1500.0</td>\n",
       "      <td>591.837557</td>\n",
       "      <td>4.968373</td>\n",
       "      <td>122.245578</td>\n",
       "      <td>11.00</td>\n",
       "      <td>...</td>\n",
       "      <td>16223</td>\n",
       "      <td>10850.0</td>\n",
       "      <td>5300.0</td>\n",
       "      <td>5550.0</td>\n",
       "      <td>3023.0</td>\n",
       "      <td>6251.0</td>\n",
       "      <td>1576.0</td>\n",
       "      <td>36.004793</td>\n",
       "      <td>3.38</td>\n",
       "      <td>3210.059172</td>\n",
       "    </tr>\n",
       "    <tr>\n",
       "      <th>E05000030</th>\n",
       "      <td>356.882607</td>\n",
       "      <td>30.0</td>\n",
       "      <td>140.0</td>\n",
       "      <td>250.0</td>\n",
       "      <td>450.0</td>\n",
       "      <td>1000.0</td>\n",
       "      <td>465.284180</td>\n",
       "      <td>3.880963</td>\n",
       "      <td>109.959688</td>\n",
       "      <td>13.69</td>\n",
       "      <td>...</td>\n",
       "      <td>17522</td>\n",
       "      <td>11348.0</td>\n",
       "      <td>5515.0</td>\n",
       "      <td>5833.0</td>\n",
       "      <td>2747.0</td>\n",
       "      <td>6961.0</td>\n",
       "      <td>1640.0</td>\n",
       "      <td>37.247444</td>\n",
       "      <td>3.45</td>\n",
       "      <td>3289.275362</td>\n",
       "    </tr>\n",
       "  </tbody>\n",
       "</table>\n",
       "<p>5 rows × 201 columns</p>\n",
       "</div>"
      ],
      "text/plain": [
       "               weight  weight_perc2.5  weight_perc25  weight_perc50  \\\n",
       "area_id                                                               \n",
       "E05000026  449.535137            32.5          166.4          300.0   \n",
       "E05000027  413.130263            32.5          150.0          300.0   \n",
       "E05000028  407.100472            32.5          160.0          300.0   \n",
       "E05000029  384.173858            30.0          150.0          250.0   \n",
       "E05000030  356.882607            30.0          140.0          250.0   \n",
       "\n",
       "           weight_perc75  weight_perc97.5  weight_std  weight_ci95  \\\n",
       "area_id                                                              \n",
       "E05000026          500.0           1500.0  771.349423     3.716832   \n",
       "E05000027          500.0           1500.0  626.395178     5.164174   \n",
       "E05000028          500.0           1200.0  545.890959     2.710677   \n",
       "E05000029          454.0           1500.0  591.837557     4.968373   \n",
       "E05000030          450.0           1000.0  465.284180     3.880963   \n",
       "\n",
       "               volume  volume_perc2.5  ...  man_day  population    male  \\\n",
       "area_id                                ...                                \n",
       "E05000026  125.960833           11.00  ...    37315     14370.0  7469.0   \n",
       "E05000027  110.664114           15.00  ...    14474     10845.0  5228.0   \n",
       "E05000028  121.990710           11.00  ...    32138     13856.0  6750.0   \n",
       "E05000029  122.245578           11.00  ...    16223     10850.0  5300.0   \n",
       "E05000030  109.959688           13.69  ...    17522     11348.0  5515.0   \n",
       "\n",
       "           female  age_0_17  age_18_64  age_65+    avg_age  area_sq_km  \\\n",
       "area_id                                                                  \n",
       "E05000026  6901.0    4211.0     9421.0    738.0  29.572999        1.26   \n",
       "E05000027  5617.0    3205.0     6608.0   1032.0  33.568004        1.36   \n",
       "E05000028  7106.0    4180.0     8537.0   1139.0  32.032693        1.29   \n",
       "E05000029  5550.0    3023.0     6251.0   1576.0  36.004793        3.38   \n",
       "E05000030  5833.0    2747.0     6961.0   1640.0  37.247444        3.45   \n",
       "\n",
       "           people_per_sq_km  \n",
       "area_id                      \n",
       "E05000026      11404.761905  \n",
       "E05000027       7974.264706  \n",
       "E05000028      10741.085271  \n",
       "E05000029       3210.059172  \n",
       "E05000030       3289.275362  \n",
       "\n",
       "[5 rows x 201 columns]"
      ]
     },
     "execution_count": 425,
     "metadata": {},
     "output_type": "execute_result"
    }
   ],
   "source": [
    "grc = pd.read_csv(\"data/year_osward_grocery.csv\", index_col=\"area_id\")\n",
    "grc.head()"
   ]
  },
  {
   "cell_type": "code",
   "execution_count": 426,
   "metadata": {},
   "outputs": [
    {
     "data": {
      "text/html": [
       "<div>\n",
       "<style scoped>\n",
       "    .dataframe tbody tr th:only-of-type {\n",
       "        vertical-align: middle;\n",
       "    }\n",
       "\n",
       "    .dataframe tbody tr th {\n",
       "        vertical-align: top;\n",
       "    }\n",
       "\n",
       "    .dataframe thead th {\n",
       "        text-align: right;\n",
       "    }\n",
       "</style>\n",
       "<table border=\"1\" class=\"dataframe\">\n",
       "  <thead>\n",
       "    <tr style=\"text-align: right;\">\n",
       "      <th></th>\n",
       "      <th>gp_patients</th>\n",
       "      <th>gp_patients_diabetes</th>\n",
       "      <th>estimated_diabetes_prevalence</th>\n",
       "    </tr>\n",
       "    <tr>\n",
       "      <th>area_id</th>\n",
       "      <th></th>\n",
       "      <th></th>\n",
       "      <th></th>\n",
       "    </tr>\n",
       "  </thead>\n",
       "  <tbody>\n",
       "    <tr>\n",
       "      <th>E05000026</th>\n",
       "      <td>13136</td>\n",
       "      <td>1068</td>\n",
       "      <td>8.1</td>\n",
       "    </tr>\n",
       "    <tr>\n",
       "      <th>E05000027</th>\n",
       "      <td>8954</td>\n",
       "      <td>631</td>\n",
       "      <td>7.0</td>\n",
       "    </tr>\n",
       "    <tr>\n",
       "      <th>E05000028</th>\n",
       "      <td>12032</td>\n",
       "      <td>958</td>\n",
       "      <td>8.0</td>\n",
       "    </tr>\n",
       "    <tr>\n",
       "      <th>E05000029</th>\n",
       "      <td>8853</td>\n",
       "      <td>700</td>\n",
       "      <td>7.9</td>\n",
       "    </tr>\n",
       "    <tr>\n",
       "      <th>E05000030</th>\n",
       "      <td>8813</td>\n",
       "      <td>640</td>\n",
       "      <td>7.3</td>\n",
       "    </tr>\n",
       "  </tbody>\n",
       "</table>\n",
       "</div>"
      ],
      "text/plain": [
       "           gp_patients  gp_patients_diabetes  estimated_diabetes_prevalence\n",
       "area_id                                                                    \n",
       "E05000026        13136                  1068                            8.1\n",
       "E05000027         8954                   631                            7.0\n",
       "E05000028        12032                   958                            8.0\n",
       "E05000029         8853                   700                            7.9\n",
       "E05000030         8813                   640                            7.3"
      ]
     },
     "execution_count": 426,
     "metadata": {},
     "output_type": "execute_result"
    }
   ],
   "source": [
    "diab = pd.read_csv(\"data/diabetes_estimates_osward_2016.csv\", index_col = \"area_id\")\n",
    "diab.head()"
   ]
  },
  {
   "cell_type": "code",
   "execution_count": 427,
   "metadata": {},
   "outputs": [
    {
     "name": "stdout",
     "output_type": "stream",
     "text": [
      "There are 638 areas in the Tesco dataset.\n",
      "547 of them appear in the Diabetes dataset.\n"
     ]
    }
   ],
   "source": [
    "areas = set(grc.index).intersection(set(diab.index))\n",
    "print(f\"There are {len(grc)} areas in the Tesco dataset.\")\n",
    "print(f\"{len(areas)} of them appear in the Diabetes dataset.\")"
   ]
  },
  {
   "cell_type": "code",
   "execution_count": 428,
   "metadata": {},
   "outputs": [
    {
     "data": {
      "text/html": [
       "<div>\n",
       "<style scoped>\n",
       "    .dataframe tbody tr th:only-of-type {\n",
       "        vertical-align: middle;\n",
       "    }\n",
       "\n",
       "    .dataframe tbody tr th {\n",
       "        vertical-align: top;\n",
       "    }\n",
       "\n",
       "    .dataframe thead th {\n",
       "        text-align: right;\n",
       "    }\n",
       "</style>\n",
       "<table border=\"1\" class=\"dataframe\">\n",
       "  <thead>\n",
       "    <tr style=\"text-align: right;\">\n",
       "      <th></th>\n",
       "      <th>weight</th>\n",
       "      <th>weight_perc2.5</th>\n",
       "      <th>weight_perc25</th>\n",
       "      <th>weight_perc50</th>\n",
       "      <th>weight_perc75</th>\n",
       "      <th>weight_perc97.5</th>\n",
       "      <th>weight_std</th>\n",
       "      <th>weight_ci95</th>\n",
       "      <th>volume</th>\n",
       "      <th>volume_perc2.5</th>\n",
       "      <th>...</th>\n",
       "      <th>female</th>\n",
       "      <th>age_0_17</th>\n",
       "      <th>age_18_64</th>\n",
       "      <th>age_65+</th>\n",
       "      <th>avg_age</th>\n",
       "      <th>area_sq_km</th>\n",
       "      <th>people_per_sq_km</th>\n",
       "      <th>gp_patients</th>\n",
       "      <th>gp_patients_diabetes</th>\n",
       "      <th>estimated_diabetes_prevalence</th>\n",
       "    </tr>\n",
       "    <tr>\n",
       "      <th>area_id</th>\n",
       "      <th></th>\n",
       "      <th></th>\n",
       "      <th></th>\n",
       "      <th></th>\n",
       "      <th></th>\n",
       "      <th></th>\n",
       "      <th></th>\n",
       "      <th></th>\n",
       "      <th></th>\n",
       "      <th></th>\n",
       "      <th></th>\n",
       "      <th></th>\n",
       "      <th></th>\n",
       "      <th></th>\n",
       "      <th></th>\n",
       "      <th></th>\n",
       "      <th></th>\n",
       "      <th></th>\n",
       "      <th></th>\n",
       "      <th></th>\n",
       "      <th></th>\n",
       "    </tr>\n",
       "  </thead>\n",
       "  <tbody>\n",
       "    <tr>\n",
       "      <th>E05000026</th>\n",
       "      <td>449.535137</td>\n",
       "      <td>32.5</td>\n",
       "      <td>166.4</td>\n",
       "      <td>300.0</td>\n",
       "      <td>500.0</td>\n",
       "      <td>1500.0</td>\n",
       "      <td>771.349423</td>\n",
       "      <td>3.716832</td>\n",
       "      <td>125.960833</td>\n",
       "      <td>11.00</td>\n",
       "      <td>...</td>\n",
       "      <td>6901.0</td>\n",
       "      <td>4211.0</td>\n",
       "      <td>9421.0</td>\n",
       "      <td>738.0</td>\n",
       "      <td>29.572999</td>\n",
       "      <td>1.26</td>\n",
       "      <td>11404.761905</td>\n",
       "      <td>13136</td>\n",
       "      <td>1068</td>\n",
       "      <td>8.1</td>\n",
       "    </tr>\n",
       "    <tr>\n",
       "      <th>E05000027</th>\n",
       "      <td>413.130263</td>\n",
       "      <td>32.5</td>\n",
       "      <td>150.0</td>\n",
       "      <td>300.0</td>\n",
       "      <td>500.0</td>\n",
       "      <td>1500.0</td>\n",
       "      <td>626.395178</td>\n",
       "      <td>5.164174</td>\n",
       "      <td>110.664114</td>\n",
       "      <td>15.00</td>\n",
       "      <td>...</td>\n",
       "      <td>5617.0</td>\n",
       "      <td>3205.0</td>\n",
       "      <td>6608.0</td>\n",
       "      <td>1032.0</td>\n",
       "      <td>33.568004</td>\n",
       "      <td>1.36</td>\n",
       "      <td>7974.264706</td>\n",
       "      <td>8954</td>\n",
       "      <td>631</td>\n",
       "      <td>7.0</td>\n",
       "    </tr>\n",
       "    <tr>\n",
       "      <th>E05000028</th>\n",
       "      <td>407.100472</td>\n",
       "      <td>32.5</td>\n",
       "      <td>160.0</td>\n",
       "      <td>300.0</td>\n",
       "      <td>500.0</td>\n",
       "      <td>1200.0</td>\n",
       "      <td>545.890959</td>\n",
       "      <td>2.710677</td>\n",
       "      <td>121.990710</td>\n",
       "      <td>11.00</td>\n",
       "      <td>...</td>\n",
       "      <td>7106.0</td>\n",
       "      <td>4180.0</td>\n",
       "      <td>8537.0</td>\n",
       "      <td>1139.0</td>\n",
       "      <td>32.032693</td>\n",
       "      <td>1.29</td>\n",
       "      <td>10741.085271</td>\n",
       "      <td>12032</td>\n",
       "      <td>958</td>\n",
       "      <td>8.0</td>\n",
       "    </tr>\n",
       "    <tr>\n",
       "      <th>E05000029</th>\n",
       "      <td>384.173858</td>\n",
       "      <td>30.0</td>\n",
       "      <td>150.0</td>\n",
       "      <td>250.0</td>\n",
       "      <td>454.0</td>\n",
       "      <td>1500.0</td>\n",
       "      <td>591.837557</td>\n",
       "      <td>4.968373</td>\n",
       "      <td>122.245578</td>\n",
       "      <td>11.00</td>\n",
       "      <td>...</td>\n",
       "      <td>5550.0</td>\n",
       "      <td>3023.0</td>\n",
       "      <td>6251.0</td>\n",
       "      <td>1576.0</td>\n",
       "      <td>36.004793</td>\n",
       "      <td>3.38</td>\n",
       "      <td>3210.059172</td>\n",
       "      <td>8853</td>\n",
       "      <td>700</td>\n",
       "      <td>7.9</td>\n",
       "    </tr>\n",
       "    <tr>\n",
       "      <th>E05000030</th>\n",
       "      <td>356.882607</td>\n",
       "      <td>30.0</td>\n",
       "      <td>140.0</td>\n",
       "      <td>250.0</td>\n",
       "      <td>450.0</td>\n",
       "      <td>1000.0</td>\n",
       "      <td>465.284180</td>\n",
       "      <td>3.880963</td>\n",
       "      <td>109.959688</td>\n",
       "      <td>13.69</td>\n",
       "      <td>...</td>\n",
       "      <td>5833.0</td>\n",
       "      <td>2747.0</td>\n",
       "      <td>6961.0</td>\n",
       "      <td>1640.0</td>\n",
       "      <td>37.247444</td>\n",
       "      <td>3.45</td>\n",
       "      <td>3289.275362</td>\n",
       "      <td>8813</td>\n",
       "      <td>640</td>\n",
       "      <td>7.3</td>\n",
       "    </tr>\n",
       "  </tbody>\n",
       "</table>\n",
       "<p>5 rows × 204 columns</p>\n",
       "</div>"
      ],
      "text/plain": [
       "               weight  weight_perc2.5  weight_perc25  weight_perc50  \\\n",
       "area_id                                                               \n",
       "E05000026  449.535137            32.5          166.4          300.0   \n",
       "E05000027  413.130263            32.5          150.0          300.0   \n",
       "E05000028  407.100472            32.5          160.0          300.0   \n",
       "E05000029  384.173858            30.0          150.0          250.0   \n",
       "E05000030  356.882607            30.0          140.0          250.0   \n",
       "\n",
       "           weight_perc75  weight_perc97.5  weight_std  weight_ci95  \\\n",
       "area_id                                                              \n",
       "E05000026          500.0           1500.0  771.349423     3.716832   \n",
       "E05000027          500.0           1500.0  626.395178     5.164174   \n",
       "E05000028          500.0           1200.0  545.890959     2.710677   \n",
       "E05000029          454.0           1500.0  591.837557     4.968373   \n",
       "E05000030          450.0           1000.0  465.284180     3.880963   \n",
       "\n",
       "               volume  volume_perc2.5  ...  female  age_0_17  age_18_64  \\\n",
       "area_id                                ...                                \n",
       "E05000026  125.960833           11.00  ...  6901.0    4211.0     9421.0   \n",
       "E05000027  110.664114           15.00  ...  5617.0    3205.0     6608.0   \n",
       "E05000028  121.990710           11.00  ...  7106.0    4180.0     8537.0   \n",
       "E05000029  122.245578           11.00  ...  5550.0    3023.0     6251.0   \n",
       "E05000030  109.959688           13.69  ...  5833.0    2747.0     6961.0   \n",
       "\n",
       "           age_65+    avg_age  area_sq_km  people_per_sq_km  gp_patients  \\\n",
       "area_id                                                                    \n",
       "E05000026    738.0  29.572999        1.26      11404.761905        13136   \n",
       "E05000027   1032.0  33.568004        1.36       7974.264706         8954   \n",
       "E05000028   1139.0  32.032693        1.29      10741.085271        12032   \n",
       "E05000029   1576.0  36.004793        3.38       3210.059172         8853   \n",
       "E05000030   1640.0  37.247444        3.45       3289.275362         8813   \n",
       "\n",
       "           gp_patients_diabetes  estimated_diabetes_prevalence  \n",
       "area_id                                                         \n",
       "E05000026                  1068                            8.1  \n",
       "E05000027                   631                            7.0  \n",
       "E05000028                   958                            8.0  \n",
       "E05000029                   700                            7.9  \n",
       "E05000030                   640                            7.3  \n",
       "\n",
       "[5 rows x 204 columns]"
      ]
     },
     "execution_count": 428,
     "metadata": {},
     "output_type": "execute_result"
    }
   ],
   "source": [
    "#using only shared areas and merging both df\n",
    "idx = grc.index.intersection(diab.index)\n",
    "grc = grc.loc[idx]\n",
    "diab = diab.loc[idx]\n",
    "diab.reindex(grc.index)\n",
    "df = pd.concat([grc, diab], axis = 1)\n",
    "df.head()"
   ]
  },
  {
   "cell_type": "markdown",
   "metadata": {},
   "source": [
    "### Data Preprossesing\n",
    "\n",
    "We are going to create new features : young, mid_age and old densities for each area, helping us to represent the kinf of area we are dealing with. We will then check if these features are correlated with the areas product purchase density (f_product). (done for msoa)\n",
    "\n",
    "For stronger results, we are considering only areas with a representativeness_norm > 25%. We also only take into accouns correlations having p-values < 0,05"
   ]
  },
  {
   "cell_type": "code",
   "execution_count": 429,
   "metadata": {},
   "outputs": [
    {
     "data": {
      "text/html": [
       "<div>\n",
       "<style scoped>\n",
       "    .dataframe tbody tr th:only-of-type {\n",
       "        vertical-align: middle;\n",
       "    }\n",
       "\n",
       "    .dataframe tbody tr th {\n",
       "        vertical-align: top;\n",
       "    }\n",
       "\n",
       "    .dataframe thead th {\n",
       "        text-align: right;\n",
       "    }\n",
       "</style>\n",
       "<table border=\"1\" class=\"dataframe\">\n",
       "  <thead>\n",
       "    <tr style=\"text-align: right;\">\n",
       "      <th></th>\n",
       "      <th>young_density</th>\n",
       "      <th>mid_age_density</th>\n",
       "      <th>old_density</th>\n",
       "      <th>estimated_diabetes_prevalence</th>\n",
       "    </tr>\n",
       "  </thead>\n",
       "  <tbody>\n",
       "    <tr>\n",
       "      <th>count</th>\n",
       "      <td>379.000000</td>\n",
       "      <td>379.000000</td>\n",
       "      <td>379.000000</td>\n",
       "      <td>379.000000</td>\n",
       "    </tr>\n",
       "    <tr>\n",
       "      <th>mean</th>\n",
       "      <td>0.219340</td>\n",
       "      <td>0.669454</td>\n",
       "      <td>0.111206</td>\n",
       "      <td>6.419261</td>\n",
       "    </tr>\n",
       "    <tr>\n",
       "      <th>std</th>\n",
       "      <td>0.041451</td>\n",
       "      <td>0.055218</td>\n",
       "      <td>0.041301</td>\n",
       "      <td>1.935883</td>\n",
       "    </tr>\n",
       "    <tr>\n",
       "      <th>min</th>\n",
       "      <td>0.087830</td>\n",
       "      <td>0.560937</td>\n",
       "      <td>0.036001</td>\n",
       "      <td>2.600000</td>\n",
       "    </tr>\n",
       "    <tr>\n",
       "      <th>25%</th>\n",
       "      <td>0.195506</td>\n",
       "      <td>0.623429</td>\n",
       "      <td>0.081007</td>\n",
       "      <td>5.050000</td>\n",
       "    </tr>\n",
       "    <tr>\n",
       "      <th>50%</th>\n",
       "      <td>0.218979</td>\n",
       "      <td>0.663325</td>\n",
       "      <td>0.101562</td>\n",
       "      <td>6.200000</td>\n",
       "    </tr>\n",
       "    <tr>\n",
       "      <th>75%</th>\n",
       "      <td>0.245115</td>\n",
       "      <td>0.711049</td>\n",
       "      <td>0.134207</td>\n",
       "      <td>7.600000</td>\n",
       "    </tr>\n",
       "    <tr>\n",
       "      <th>max</th>\n",
       "      <td>0.359105</td>\n",
       "      <td>0.818873</td>\n",
       "      <td>0.270833</td>\n",
       "      <td>12.300000</td>\n",
       "    </tr>\n",
       "  </tbody>\n",
       "</table>\n",
       "</div>"
      ],
      "text/plain": [
       "       young_density  mid_age_density  old_density  \\\n",
       "count     379.000000       379.000000   379.000000   \n",
       "mean        0.219340         0.669454     0.111206   \n",
       "std         0.041451         0.055218     0.041301   \n",
       "min         0.087830         0.560937     0.036001   \n",
       "25%         0.195506         0.623429     0.081007   \n",
       "50%         0.218979         0.663325     0.101562   \n",
       "75%         0.245115         0.711049     0.134207   \n",
       "max         0.359105         0.818873     0.270833   \n",
       "\n",
       "       estimated_diabetes_prevalence  \n",
       "count                     379.000000  \n",
       "mean                        6.419261  \n",
       "std                         1.935883  \n",
       "min                         2.600000  \n",
       "25%                         5.050000  \n",
       "50%                         6.200000  \n",
       "75%                         7.600000  \n",
       "max                        12.300000  "
      ]
     },
     "execution_count": 429,
     "metadata": {},
     "output_type": "execute_result"
    }
   ],
   "source": [
    "df[\"young_density\"] = df[\"age_0_17\"]/df[\"population\"]\n",
    "df[\"mid_age_density\"] = df[\"age_18_64\"]/df[\"population\"]\n",
    "df[\"old_density\"] = df[\"age_65+\"]/df[\"population\"]\n",
    "df = df.loc[df[\"representativeness_norm\"] > 0.25]\n",
    "\n",
    "df_age_diab = df[[\"young_density\",\"mid_age_density\", \"old_density\", \"estimated_diabetes_prevalence\"]]\n",
    "\n",
    "df_age_diab.describe()"
   ]
  },
  {
   "cell_type": "markdown",
   "metadata": {},
   "source": [
    "From this quick description, we notice that the densities have roughly the same std, that the mean diabetes prevalence is 6.42 and most importantly, that each area has at least 56% of middle age population ! Compared to young_density where each area has at least 8.78% and old_density 3.6%. This is logical. However, we have to take this into account when analyzing future results."
   ]
  },
  {
   "cell_type": "markdown",
   "metadata": {},
   "source": [
    "### Correlations analyisis "
   ]
  },
  {
   "cell_type": "markdown",
   "metadata": {},
   "source": [
    "Now, we check if age densities correlate with diabetes prevalence. To do so, we are computing the Spearman rank correlation and keep only correlations with p < 0.05"
   ]
  },
  {
   "cell_type": "code",
   "execution_count": 430,
   "metadata": {},
   "outputs": [],
   "source": [
    "rho, p_val = stats.spearmanr(df_age_diab, axis = 0)"
   ]
  },
  {
   "cell_type": "code",
   "execution_count": 431,
   "metadata": {},
   "outputs": [
    {
     "data": {
      "text/html": [
       "<div>\n",
       "<style scoped>\n",
       "    .dataframe tbody tr th:only-of-type {\n",
       "        vertical-align: middle;\n",
       "    }\n",
       "\n",
       "    .dataframe tbody tr th {\n",
       "        vertical-align: top;\n",
       "    }\n",
       "\n",
       "    .dataframe thead th {\n",
       "        text-align: right;\n",
       "    }\n",
       "</style>\n",
       "<table border=\"1\" class=\"dataframe\">\n",
       "  <thead>\n",
       "    <tr style=\"text-align: right;\">\n",
       "      <th></th>\n",
       "      <th>young_density</th>\n",
       "      <th>mid_age_density</th>\n",
       "      <th>old_density</th>\n",
       "      <th>estimated_diabetes_prevalence</th>\n",
       "    </tr>\n",
       "  </thead>\n",
       "  <tbody>\n",
       "    <tr>\n",
       "      <th>young_density</th>\n",
       "      <td>1.000000</td>\n",
       "      <td>-0.627104</td>\n",
       "      <td>NaN</td>\n",
       "      <td>0.659689</td>\n",
       "    </tr>\n",
       "    <tr>\n",
       "      <th>mid_age_density</th>\n",
       "      <td>-0.627104</td>\n",
       "      <td>1.000000</td>\n",
       "      <td>-0.673621</td>\n",
       "      <td>-0.476433</td>\n",
       "    </tr>\n",
       "    <tr>\n",
       "      <th>old_density</th>\n",
       "      <td>NaN</td>\n",
       "      <td>-0.673621</td>\n",
       "      <td>1.000000</td>\n",
       "      <td>NaN</td>\n",
       "    </tr>\n",
       "    <tr>\n",
       "      <th>estimated_diabetes_prevalence</th>\n",
       "      <td>0.659689</td>\n",
       "      <td>-0.476433</td>\n",
       "      <td>NaN</td>\n",
       "      <td>1.000000</td>\n",
       "    </tr>\n",
       "  </tbody>\n",
       "</table>\n",
       "</div>"
      ],
      "text/plain": [
       "                               young_density  mid_age_density  old_density  \\\n",
       "young_density                       1.000000        -0.627104          NaN   \n",
       "mid_age_density                    -0.627104         1.000000    -0.673621   \n",
       "old_density                              NaN        -0.673621     1.000000   \n",
       "estimated_diabetes_prevalence       0.659689        -0.476433          NaN   \n",
       "\n",
       "                               estimated_diabetes_prevalence  \n",
       "young_density                                       0.659689  \n",
       "mid_age_density                                    -0.476433  \n",
       "old_density                                              NaN  \n",
       "estimated_diabetes_prevalence                       1.000000  "
      ]
     },
     "execution_count": 431,
     "metadata": {},
     "output_type": "execute_result"
    }
   ],
   "source": [
    "rho = pd.DataFrame(rho, index = df_age_diab.columns, columns = df_age_diab.columns)\n",
    "\n",
    "#place NaN on unrelevant correlations\n",
    "rho.where(p_val < 0.05, inplace = True)\n",
    "rho"
   ]
  },
  {
   "cell_type": "code",
   "execution_count": 432,
   "metadata": {},
   "outputs": [
    {
     "data": {
      "image/png": "[encoded data removed]",
      "text/plain": [
       "<Figure size 720x360 with 1 Axes>"
      ]
     },
     "metadata": {
      "needs_background": "light"
     },
     "output_type": "display_data"
    }
   ],
   "source": [
    "plt.figure(figsize = (10,5))\n",
    "sns.barplot(x = rho.index.drop(\"estimated_diabetes_prevalence\"),\n",
    "            y = rho[\"estimated_diabetes_prevalence\"].drop(\"estimated_diabetes_prevalence\"))\n",
    "\n",
    "plt.title(\"Correlation between diabetes prevalence and age densities\")\n",
    "plt.show()"
   ]
  },
  {
   "cell_type": "markdown",
   "metadata": {},
   "source": [
    "### Interesting results so far !\n",
    "\n",
    "No need to talk much about the results, which are quite visual ! The younger the population, the higher the estimated diabetes prevalence.\n",
    "Correlation between old densities was not found to be relevant though.\n",
    "\n",
    "Let's compare the number of gp patients in younger areas with the number of gp patients in other areas\n"
   ]
  },
  {
   "cell_type": "code",
   "execution_count": 433,
   "metadata": {},
   "outputs": [
    {
     "name": "stderr",
     "output_type": "stream",
     "text": [
      "C:\\Users\\touch\\Anaconda3\\lib\\site-packages\\pandas\\core\\indexing.py:1596: SettingWithCopyWarning: \n",
      "A value is trying to be set on a copy of a slice from a DataFrame.\n",
      "Try using .loc[row_indexer,col_indexer] = value instead\n",
      "\n",
      "See the caveats in the documentation: https://pandas.pydata.org/pandas-docs/stable/user_guide/indexing.html#returning-a-view-versus-a-copy\n",
      "  self.obj[key] = _infer_fill_value(value)\n",
      "C:\\Users\\touch\\Anaconda3\\lib\\site-packages\\pandas\\core\\indexing.py:1783: SettingWithCopyWarning: \n",
      "A value is trying to be set on a copy of a slice from a DataFrame.\n",
      "Try using .loc[row_indexer,col_indexer] = value instead\n",
      "\n",
      "See the caveats in the documentation: https://pandas.pydata.org/pandas-docs/stable/user_guide/indexing.html#returning-a-view-versus-a-copy\n",
      "  self.obj[item_labels[indexer[info_axis]]] = value\n",
      "C:\\Users\\touch\\Anaconda3\\lib\\site-packages\\pandas\\core\\indexing.py:1745: SettingWithCopyWarning: \n",
      "A value is trying to be set on a copy of a slice from a DataFrame.\n",
      "Try using .loc[row_indexer,col_indexer] = value instead\n",
      "\n",
      "See the caveats in the documentation: https://pandas.pydata.org/pandas-docs/stable/user_guide/indexing.html#returning-a-view-versus-a-copy\n",
      "  isetter(ilocs[0], value)\n"
     ]
    },
    {
     "data": {
      "text/html": [
       "<div>\n",
       "<style scoped>\n",
       "    .dataframe tbody tr th:only-of-type {\n",
       "        vertical-align: middle;\n",
       "    }\n",
       "\n",
       "    .dataframe tbody tr th {\n",
       "        vertical-align: top;\n",
       "    }\n",
       "\n",
       "    .dataframe thead th {\n",
       "        text-align: right;\n",
       "    }\n",
       "</style>\n",
       "<table border=\"1\" class=\"dataframe\">\n",
       "  <thead>\n",
       "    <tr style=\"text-align: right;\">\n",
       "      <th></th>\n",
       "      <th>young_density</th>\n",
       "      <th>mid_age_density</th>\n",
       "      <th>old_density</th>\n",
       "      <th>estimated_diabetes_prevalence</th>\n",
       "      <th>gp_patients</th>\n",
       "      <th>gp_patients_diabetes</th>\n",
       "    </tr>\n",
       "  </thead>\n",
       "  <tbody>\n",
       "    <tr>\n",
       "      <th>count</th>\n",
       "      <td>379.000000</td>\n",
       "      <td>379.000000</td>\n",
       "      <td>379.000000</td>\n",
       "      <td>379.000000</td>\n",
       "      <td>379.000000</td>\n",
       "      <td>379.000000</td>\n",
       "    </tr>\n",
       "    <tr>\n",
       "      <th>mean</th>\n",
       "      <td>0.219340</td>\n",
       "      <td>0.669454</td>\n",
       "      <td>0.111206</td>\n",
       "      <td>6.419261</td>\n",
       "      <td>12542.577836</td>\n",
       "      <td>808.422164</td>\n",
       "    </tr>\n",
       "    <tr>\n",
       "      <th>std</th>\n",
       "      <td>0.041451</td>\n",
       "      <td>0.055218</td>\n",
       "      <td>0.041301</td>\n",
       "      <td>1.935883</td>\n",
       "      <td>2918.837462</td>\n",
       "      <td>314.392908</td>\n",
       "    </tr>\n",
       "    <tr>\n",
       "      <th>min</th>\n",
       "      <td>0.087830</td>\n",
       "      <td>0.560937</td>\n",
       "      <td>0.036001</td>\n",
       "      <td>2.600000</td>\n",
       "      <td>170.000000</td>\n",
       "      <td>5.000000</td>\n",
       "    </tr>\n",
       "    <tr>\n",
       "      <th>25%</th>\n",
       "      <td>0.195506</td>\n",
       "      <td>0.623429</td>\n",
       "      <td>0.081007</td>\n",
       "      <td>5.050000</td>\n",
       "      <td>10736.000000</td>\n",
       "      <td>588.000000</td>\n",
       "    </tr>\n",
       "    <tr>\n",
       "      <th>50%</th>\n",
       "      <td>0.218979</td>\n",
       "      <td>0.663325</td>\n",
       "      <td>0.101562</td>\n",
       "      <td>6.200000</td>\n",
       "      <td>12595.000000</td>\n",
       "      <td>789.000000</td>\n",
       "    </tr>\n",
       "    <tr>\n",
       "      <th>75%</th>\n",
       "      <td>0.245115</td>\n",
       "      <td>0.711049</td>\n",
       "      <td>0.134207</td>\n",
       "      <td>7.600000</td>\n",
       "      <td>14496.500000</td>\n",
       "      <td>988.500000</td>\n",
       "    </tr>\n",
       "    <tr>\n",
       "      <th>max</th>\n",
       "      <td>0.359105</td>\n",
       "      <td>0.818873</td>\n",
       "      <td>0.270833</td>\n",
       "      <td>12.300000</td>\n",
       "      <td>24981.000000</td>\n",
       "      <td>1706.000000</td>\n",
       "    </tr>\n",
       "  </tbody>\n",
       "</table>\n",
       "</div>"
      ],
      "text/plain": [
       "       young_density  mid_age_density  old_density  \\\n",
       "count     379.000000       379.000000   379.000000   \n",
       "mean        0.219340         0.669454     0.111206   \n",
       "std         0.041451         0.055218     0.041301   \n",
       "min         0.087830         0.560937     0.036001   \n",
       "25%         0.195506         0.623429     0.081007   \n",
       "50%         0.218979         0.663325     0.101562   \n",
       "75%         0.245115         0.711049     0.134207   \n",
       "max         0.359105         0.818873     0.270833   \n",
       "\n",
       "       estimated_diabetes_prevalence   gp_patients  gp_patients_diabetes  \n",
       "count                     379.000000    379.000000            379.000000  \n",
       "mean                        6.419261  12542.577836            808.422164  \n",
       "std                         1.935883   2918.837462            314.392908  \n",
       "min                         2.600000    170.000000              5.000000  \n",
       "25%                         5.050000  10736.000000            588.000000  \n",
       "50%                         6.200000  12595.000000            789.000000  \n",
       "75%                         7.600000  14496.500000            988.500000  \n",
       "max                        12.300000  24981.000000           1706.000000  "
      ]
     },
     "execution_count": 433,
     "metadata": {},
     "output_type": "execute_result"
    }
   ],
   "source": [
    "df_age_diab.loc[:,\"gp_patients\"] = df.loc[:,\"gp_patients\"]\n",
    "df_age_diab.loc[:,\"gp_patients_diabetes\"] = df.loc[:,\"gp_patients_diabetes\"]\n",
    "df_age_diab.describe()\n"
   ]
  },
  {
   "cell_type": "code",
   "execution_count": 434,
   "metadata": {},
   "outputs": [
    {
     "data": {
      "text/html": [
       "<div>\n",
       "<style scoped>\n",
       "    .dataframe tbody tr th:only-of-type {\n",
       "        vertical-align: middle;\n",
       "    }\n",
       "\n",
       "    .dataframe tbody tr th {\n",
       "        vertical-align: top;\n",
       "    }\n",
       "\n",
       "    .dataframe thead th {\n",
       "        text-align: right;\n",
       "    }\n",
       "</style>\n",
       "<table border=\"1\" class=\"dataframe\">\n",
       "  <thead>\n",
       "    <tr style=\"text-align: right;\">\n",
       "      <th></th>\n",
       "      <th>young_density</th>\n",
       "      <th>mid_age_density</th>\n",
       "      <th>old_density</th>\n",
       "      <th>estimated_diabetes_prevalence</th>\n",
       "      <th>gp_patients</th>\n",
       "      <th>gp_patients_diabetes</th>\n",
       "    </tr>\n",
       "  </thead>\n",
       "  <tbody>\n",
       "    <tr>\n",
       "      <th>young_density</th>\n",
       "      <td>1.000000</td>\n",
       "      <td>-0.627104</td>\n",
       "      <td>NaN</td>\n",
       "      <td>0.659689</td>\n",
       "      <td>0.157868</td>\n",
       "      <td>0.582067</td>\n",
       "    </tr>\n",
       "    <tr>\n",
       "      <th>mid_age_density</th>\n",
       "      <td>-0.627104</td>\n",
       "      <td>1.000000</td>\n",
       "      <td>-0.673621</td>\n",
       "      <td>-0.476433</td>\n",
       "      <td>0.246680</td>\n",
       "      <td>-0.236311</td>\n",
       "    </tr>\n",
       "    <tr>\n",
       "      <th>old_density</th>\n",
       "      <td>NaN</td>\n",
       "      <td>-0.673621</td>\n",
       "      <td>1.000000</td>\n",
       "      <td>NaN</td>\n",
       "      <td>-0.450285</td>\n",
       "      <td>-0.219290</td>\n",
       "    </tr>\n",
       "    <tr>\n",
       "      <th>estimated_diabetes_prevalence</th>\n",
       "      <td>0.659689</td>\n",
       "      <td>-0.476433</td>\n",
       "      <td>NaN</td>\n",
       "      <td>1.000000</td>\n",
       "      <td>0.149661</td>\n",
       "      <td>0.820858</td>\n",
       "    </tr>\n",
       "    <tr>\n",
       "      <th>gp_patients</th>\n",
       "      <td>0.157868</td>\n",
       "      <td>0.246680</td>\n",
       "      <td>-0.450285</td>\n",
       "      <td>0.149661</td>\n",
       "      <td>1.000000</td>\n",
       "      <td>0.634872</td>\n",
       "    </tr>\n",
       "    <tr>\n",
       "      <th>gp_patients_diabetes</th>\n",
       "      <td>0.582067</td>\n",
       "      <td>-0.236311</td>\n",
       "      <td>-0.219290</td>\n",
       "      <td>0.820858</td>\n",
       "      <td>0.634872</td>\n",
       "      <td>1.000000</td>\n",
       "    </tr>\n",
       "  </tbody>\n",
       "</table>\n",
       "</div>"
      ],
      "text/plain": [
       "                               young_density  mid_age_density  old_density  \\\n",
       "young_density                       1.000000        -0.627104          NaN   \n",
       "mid_age_density                    -0.627104         1.000000    -0.673621   \n",
       "old_density                              NaN        -0.673621     1.000000   \n",
       "estimated_diabetes_prevalence       0.659689        -0.476433          NaN   \n",
       "gp_patients                         0.157868         0.246680    -0.450285   \n",
       "gp_patients_diabetes                0.582067        -0.236311    -0.219290   \n",
       "\n",
       "                               estimated_diabetes_prevalence  gp_patients  \\\n",
       "young_density                                       0.659689     0.157868   \n",
       "mid_age_density                                    -0.476433     0.246680   \n",
       "old_density                                              NaN    -0.450285   \n",
       "estimated_diabetes_prevalence                       1.000000     0.149661   \n",
       "gp_patients                                         0.149661     1.000000   \n",
       "gp_patients_diabetes                                0.820858     0.634872   \n",
       "\n",
       "                               gp_patients_diabetes  \n",
       "young_density                              0.582067  \n",
       "mid_age_density                           -0.236311  \n",
       "old_density                               -0.219290  \n",
       "estimated_diabetes_prevalence              0.820858  \n",
       "gp_patients                                0.634872  \n",
       "gp_patients_diabetes                       1.000000  "
      ]
     },
     "execution_count": 434,
     "metadata": {},
     "output_type": "execute_result"
    }
   ],
   "source": [
    "rho, p_val = stats.spearmanr(df_age_diab, axis = 0)\n",
    "\n",
    "rho = pd.DataFrame(rho, index = df_age_diab.columns, columns = df_age_diab.columns)\n",
    "\n",
    "#place NaN on unrelevant correlations\n",
    "rho.where(p_val < 0.05, inplace = True)\n",
    "rho"
   ]
  },
  {
   "cell_type": "code",
   "execution_count": 435,
   "metadata": {},
   "outputs": [
    {
     "data": {
      "image/png": "[encoded data removed]",
      "text/plain": [
       "<Figure size 1008x360 with 1 Axes>"
      ]
     },
     "metadata": {
      "needs_background": "light"
     },
     "output_type": "display_data"
    }
   ],
   "source": [
    "plt.figure(figsize = (14,5))\n",
    "sns.barplot(x = rho.index.drop([\"gp_patients\", \"gp_patients_diabetes\"]),\n",
    "            y = rho[\"gp_patients\"].drop([\"gp_patients\", \"gp_patients_diabetes\"]))\n",
    "\n",
    "plt.title(\"Correlation between age densities and gp_patients subscribers\")\n",
    "plt.show()"
   ]
  },
  {
   "cell_type": "markdown",
   "metadata": {},
   "source": [
    "Mid age density is slightly more correlated with the registrations at a gp practice than younger densities areas. But the number of gp patients is also slightly positively correlated with the estimated diabetes prevalence.\n",
    "\n",
    "From this correlations plot, we conclude that the correlations found in figure are meaningful. \n",
    "\n",
    "We also see that the older the population is, the less subscribers at a gp there are. which can explain the fact why the old_density was not taken into account when passing through our correlation filter (p < 0.05)\n",
    "\n",
    "We are therefore primarily going to focus on the young and mid_age populations."
   ]
  },
  {
   "cell_type": "markdown",
   "metadata": {},
   "source": [
    " ### So, why ? "
   ]
  },
  {
   "cell_type": "markdown",
   "metadata": {},
   "source": [
    "We now we would like to know why younger populations tend to have a higher diabetes prevalence estimate.\n",
    "To do so, we are going to compare the food habits of young populations compared to the others. We are only keeping correlations > 0.25 in absolute value"
   ]
  },
  {
   "cell_type": "markdown",
   "metadata": {},
   "source": [
    "### Which types of products prefer the young person ? "
   ]
  },
  {
   "cell_type": "code",
   "execution_count": 436,
   "metadata": {},
   "outputs": [],
   "source": [
    "df_prod = df[[\"f_beer\",\"f_dairy\",\"f_eggs\",\"f_fats_oils\"\n",
    "              ,\"f_fish\",\"f_fruit_veg\",\"f_grains\",\"f_meat_red\"\n",
    "              ,\"f_poultry\",\"f_readymade\",\"f_sauces\",\"f_soft_drinks\"\n",
    "              ,\"f_spirits\",\"f_sweets\",\"f_tea_coffee\",\"f_water\",\"f_wine\"\n",
    "              , \"young_density\"\n",
    "              , \"mid_age_density\", \"old_density\"]]"
   ]
  },
  {
   "cell_type": "code",
   "execution_count": 437,
   "metadata": {},
   "outputs": [],
   "source": [
    "rho, p_val = stats.spearmanr(df_prod, axis = 0)\n",
    "\n",
    "rho = pd.DataFrame(rho, index = df_prod.columns, columns = df_prod.columns)\n",
    "\n",
    "#place NaN on unrelevant correlations\n",
    "rho.where(p_val < 0.05, inplace = True)\n",
    "rho.where(abs(rho) > 0.25, inplace = True)"
   ]
  },
  {
   "cell_type": "code",
   "execution_count": 438,
   "metadata": {},
   "outputs": [
    {
     "data": {
      "image/png": "[encoded data removed]",
      "text/plain": [
       "<Figure size 1440x360 with 1 Axes>"
      ]
     },
     "metadata": {
      "needs_background": "light"
     },
     "output_type": "display_data"
    }
   ],
   "source": [
    "plt.figure(figsize = (20,5))\n",
    "sns.barplot(x = rho.index.drop([\"young_density\", \"mid_age_density\", \"old_density\"]),\n",
    "            y = rho.drop([\"young_density\", \"mid_age_density\", \"old_density\"])[\"young_density\"])\n",
    "plt.show() "
   ]
  },
  {
   "cell_type": "code",
   "execution_count": 439,
   "metadata": {},
   "outputs": [
    {
     "data": {
      "image/png": "[encoded data removed]",
      "text/plain": [
       "<Figure size 1440x360 with 1 Axes>"
      ]
     },
     "metadata": {
      "needs_background": "light"
     },
     "output_type": "display_data"
    }
   ],
   "source": [
    "plt.figure(figsize = (20,5))\n",
    "sns.barplot(x = rho.index.drop([\"young_density\", \"mid_age_density\", \"old_density\"]),\n",
    "            y = rho.drop([\"young_density\", \"mid_age_density\", \"old_density\"])[\"mid_age_density\"])\n",
    "plt.show()"
   ]
  },
  {
   "cell_type": "code",
   "execution_count": 440,
   "metadata": {},
   "outputs": [
    {
     "name": "stderr",
     "output_type": "stream",
     "text": [
      "C:\\Users\\touch\\Anaconda3\\lib\\site-packages\\pandas\\core\\frame.py:4323: SettingWithCopyWarning: \n",
      "A value is trying to be set on a copy of a slice from a DataFrame\n",
      "\n",
      "See the caveats in the documentation: https://pandas.pydata.org/pandas-docs/stable/user_guide/indexing.html#returning-a-view-versus-a-copy\n",
      "  downcast=downcast,\n",
      "C:\\Users\\touch\\Anaconda3\\lib\\site-packages\\pandas\\core\\frame.py:4170: SettingWithCopyWarning: \n",
      "A value is trying to be set on a copy of a slice from a DataFrame\n",
      "\n",
      "See the caveats in the documentation: https://pandas.pydata.org/pandas-docs/stable/user_guide/indexing.html#returning-a-view-versus-a-copy\n",
      "  errors=errors,\n"
     ]
    },
    {
     "data": {
      "text/plain": [
       "Index(['f_dairy', 'f_meat_red', 'f_poultry', 'f_readymade', 'f_sauces',\n",
       "       'f_spirits', 'f_tea_coffee'],\n",
       "      dtype='object')"
      ]
     },
     "execution_count": 440,
     "metadata": {},
     "output_type": "execute_result"
    },
    {
     "data": {
      "text/plain": [
       "<Figure size 1440x360 with 0 Axes>"
      ]
     },
     "metadata": {},
     "output_type": "display_data"
    }
   ],
   "source": [
    "#Creating both barplots side by side \n",
    "import numpy as np\n",
    "fig = plt.figure(figsize = (20,5))\n",
    "plot_df = rho[[\"mid_age_density\", \"young_density\"]]\n",
    "plot_df.fillna(0, inplace = True)\n",
    "\n",
    "#Drop lines with no particular information\n",
    "idx_to_drop = plot_df[(plot_df[\"mid_age_density\"] == 0) & (plot_df[\"young_density\"]==0)].index\n",
    "plot_df.drop(idx_to_drop, inplace = True)\n",
    "idx_to_drop"
   ]
  },
  {
   "cell_type": "code",
   "execution_count": 441,
   "metadata": {},
   "outputs": [
    {
     "data": {
      "image/png": "[encoded data removed]",
      "text/plain": [
       "<Figure size 1080x360 with 2 Axes>"
      ]
     },
     "metadata": {
      "needs_background": "light"
     },
     "output_type": "display_data"
    }
   ],
   "source": [
    "fig = plt.figure(figsize = (15,5))\n",
    "x_ticks = plot_df.index.drop([\"young_density\", \"mid_age_density\", \"old_density\"])\n",
    "\n",
    "x = np.arange(10)\n",
    "ax1 = plt.subplot(1,1,1)\n",
    "ax1.set_ylim([-1,1])\n",
    "w = 0.3\n",
    "plt.xticks(x + w/2, x_ticks, rotation = \"vertical\")\n",
    "mid = ax1.bar(x, plot_df.drop([\"young_density\", \"mid_age_density\", \"old_density\"])[\"mid_age_density\"], width = w, color = 'b', align = \"center\")\n",
    "\n",
    "ax2 = ax1.twinx()\n",
    "ax2.set_ylim([-1,1])\n",
    "young = ax2.bar(x + w, plot_df.drop([\"young_density\", \"mid_age_density\", \"old_density\"])[\"young_density\"], width = w, color = 'g', align = \"center\")\n",
    "\n",
    "plt.legend([mid, young], [\"middle aged density\", \"young density\"], loc = 'upper left')\n",
    "plt.title(\"Correlations between age density of the areas and products purchases\")\n",
    "plt.show()"
   ]
  },
  {
   "cell_type": "markdown",
   "metadata": {},
   "source": [
    " ### Interpretation\n",
    " \n",
    " Non surprisingly, younger populations are strongly negatively correlated with alcohol products (beer & wine). Indeed, it's illegal to buy alcohol before 18 in London !\n",
    " \n",
    " However, they are being bad students regarding fruits and vegetables products and fish. But they are keen on sweets, soft drinks and grains products !\n",
    " \n",
    " To the side of the mid-age denstiy populations it is quite the oposite (which is logical, since the less the young density, the more in the mid-age density). "
   ]
  },
  {
   "cell_type": "markdown",
   "metadata": {},
   "source": [
    "### So how are the products purchases correlated with diabetes prevalence ? "
   ]
  },
  {
   "cell_type": "code",
   "execution_count": 442,
   "metadata": {},
   "outputs": [
    {
     "name": "stderr",
     "output_type": "stream",
     "text": [
      "C:\\Users\\touch\\Anaconda3\\lib\\site-packages\\pandas\\core\\indexing.py:1596: SettingWithCopyWarning: \n",
      "A value is trying to be set on a copy of a slice from a DataFrame.\n",
      "Try using .loc[row_indexer,col_indexer] = value instead\n",
      "\n",
      "See the caveats in the documentation: https://pandas.pydata.org/pandas-docs/stable/user_guide/indexing.html#returning-a-view-versus-a-copy\n",
      "  self.obj[key] = _infer_fill_value(value)\n",
      "C:\\Users\\touch\\Anaconda3\\lib\\site-packages\\pandas\\core\\indexing.py:1783: SettingWithCopyWarning: \n",
      "A value is trying to be set on a copy of a slice from a DataFrame.\n",
      "Try using .loc[row_indexer,col_indexer] = value instead\n",
      "\n",
      "See the caveats in the documentation: https://pandas.pydata.org/pandas-docs/stable/user_guide/indexing.html#returning-a-view-versus-a-copy\n",
      "  self.obj[item_labels[indexer[info_axis]]] = value\n"
     ]
    }
   ],
   "source": [
    "df_prod.loc[:,\"diabetes_prevalence\"] = df.loc[:,\"estimated_diabetes_prevalence\"]"
   ]
  },
  {
   "cell_type": "code",
   "execution_count": 443,
   "metadata": {},
   "outputs": [],
   "source": [
    "rho, p_val = stats.spearmanr(df_prod, axis = 0)\n",
    "\n",
    "rho = pd.DataFrame(rho, index = df_prod.columns, columns = df_prod.columns)\n",
    "\n",
    "#place NaN on unrelevant correlations\n",
    "rho.where(p_val < 0.05, inplace = True)\n",
    "rho.where(abs(rho) > 0.25, inplace = True)"
   ]
  },
  {
   "cell_type": "code",
   "execution_count": 444,
   "metadata": {},
   "outputs": [
    {
     "data": {
      "image/png": "[encoded data removed]",
      "text/plain": [
       "<Figure size 1440x360 with 1 Axes>"
      ]
     },
     "metadata": {
      "needs_background": "light"
     },
     "output_type": "display_data"
    }
   ],
   "source": [
    "plt.figure(figsize = (20,5))\n",
    "sns.barplot(x = rho.index.drop([\"young_density\", \"mid_age_density\", \"old_density\", \"diabetes_prevalence\"]),\n",
    "            y = rho.drop([\"young_density\", \"mid_age_density\", \"old_density\", \"diabetes_prevalence\"])[\"diabetes_prevalence\"])\n",
    "plt.show()"
   ]
  },
  {
   "cell_type": "markdown",
   "metadata": {},
   "source": [
    "## Déja Vu ? \n",
    "Effectively, all the products follow the same correlations trends with diabetes_prevalence and young_density areas ! \n",
    "\n",
    "### But wait, what ?? Is this saying that alcohol consumption decreases the risk of getting diabetes ? \n",
    "\n",
    "Well, according to [this](https://time.com/4876998/drinking-wine-diabetes/#:~:text=People%20who%20had%20the%20lowest,had%20a%2058%25%20reduced%20risk.) study, yes. But stay moderate !\n"
   ]
  },
  {
   "cell_type": "markdown",
   "metadata": {},
   "source": [
    "## Some plots we could use in the story/study"
   ]
  },
  {
   "cell_type": "markdown",
   "metadata": {},
   "source": [
    "### young density vs diabetes prevalence (Scatter Plot)"
   ]
  },
  {
   "cell_type": "code",
   "execution_count": 445,
   "metadata": {},
   "outputs": [
    {
     "data": {
      "image/png": "[encoded data removed]",
      "text/plain": [
       "<Figure size 432x288 with 1 Axes>"
      ]
     },
     "metadata": {
      "needs_background": "light"
     },
     "output_type": "display_data"
    }
   ],
   "source": [
    "plt.scatter(df_prod[\"young_density\"], df_prod[\"diabetes_prevalence\"])\n",
    "plt.show()"
   ]
  },
  {
   "cell_type": "markdown",
   "metadata": {},
   "source": [
    "### mid-age density vs diabetes prevalence"
   ]
  },
  {
   "cell_type": "code",
   "execution_count": 446,
   "metadata": {},
   "outputs": [
    {
     "data": {
      "image/png": "[encoded data removed]",
      "text/plain": [
       "<Figure size 432x288 with 1 Axes>"
      ]
     },
     "metadata": {
      "needs_background": "light"
     },
     "output_type": "display_data"
    }
   ],
   "source": [
    "plt.scatter(df_prod[\"mid_age_density\"], df_prod[\"diabetes_prevalence\"])\n",
    "plt.show()"
   ]
  },
  {
   "cell_type": "markdown",
   "metadata": {},
   "source": [
    "### What about diversity ? "
   ]
  },
  {
   "cell_type": "code",
   "execution_count": null,
   "metadata": {},
   "outputs": [],
   "source": []
  },
  {
   "cell_type": "code",
   "execution_count": null,
   "metadata": {},
   "outputs": [],
   "source": []
  }
 ],
 "metadata": {
  "kernelspec": {
   "display_name": "Python 3",
   "language": "python",
   "name": "python3"
  },
  "language_info": {
   "codemirror_mode": {
    "name": "ipython",
    "version": 3
   },
   "file_extension": ".py",
   "mimetype": "text/x-python",
   "name": "python",
   "nbconvert_exporter": "python",
   "pygments_lexer": "ipython3",
   "version": "3.7.3"
  }
 },
 "nbformat": 4,
 "nbformat_minor": 4
}

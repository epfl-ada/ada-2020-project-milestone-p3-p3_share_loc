{
 "cells": [
  {
   "cell_type": "code",
   "execution_count": null,
   "metadata": {},
   "outputs": [],
   "source": [
    "import pandas as pd\n",
    "import matplotlib.pyplot as plt\n",
    "import seaborn as sns\n",
    "from scipy import stats"
   ]
  },
  {
   "cell_type": "markdown",
   "metadata": {},
   "source": [
    "### Data Import and cleaning"
   ]
  },
  {
   "cell_type": "code",
   "execution_count": null,
   "metadata": {},
   "outputs": [],
   "source": [
    "grc = pd.read_csv(\"data/year_osward_grocery.csv\", index_col=\"area_id\")\n",
    "grc.head()"
   ]
  },
  {
   "cell_type": "code",
   "execution_count": null,
   "metadata": {},
   "outputs": [],
   "source": [
    "diab = pd.read_csv(\"data/diabetes_estimates_osward_2016.csv\", index_col = \"area_id\")\n",
    "diab.head()"
   ]
  },
  {
   "cell_type": "code",
   "execution_count": null,
   "metadata": {},
   "outputs": [],
   "source": [
    "areas = set(grc.index).intersection(set(diab.index))\n",
    "print(f\"There are {len(grc)} areas in the Tesco dataset.\")\n",
    "print(f\"{len(areas)} of them appear in the Diabetes dataset.\")"
   ]
  },
  {
   "cell_type": "code",
   "execution_count": null,
   "metadata": {},
   "outputs": [],
   "source": [
    "#using only shared areas and merging both df\n",
    "idx = grc.index.intersection(diab.index)\n",
    "grc = grc.loc[idx]\n",
    "diab = diab.loc[idx]\n",
    "diab.reindex(grc.index)\n",
    "df = pd.concat([grc, diab], axis = 1)\n",
    "df.head()"
   ]
  },
  {
   "cell_type": "markdown",
   "metadata": {},
   "source": [
    "### Data Preprossesing\n",
    "\n",
    "We are going to create new features : young, mid_age and old densities for each area, helping us to represent the kinf of area we are dealing with. We will then check if these features are correlated with the areas product purchase density (f_product). (done for msoa)\n",
    "\n",
    "For stronger results, we are considering only areas with a representativeness_norm > 25%. We also only take into accouns correlations having p-values < 0,05"
   ]
  },
  {
   "cell_type": "code",
   "execution_count": null,
   "metadata": {},
   "outputs": [],
   "source": [
    "df[\"young_density\"] = df[\"age_0_17\"]/df[\"population\"]\n",
    "df[\"mid_age_density\"] = df[\"age_18_64\"]/df[\"population\"]\n",
    "df[\"old_density\"] = df[\"age_65+\"]/df[\"population\"]\n",
    "df = df.loc[df[\"representativeness_norm\"] > 0.25]\n",
    "\n",
    "df_age_diab = df[[\"young_density\",\"mid_age_density\", \"old_density\", \"estimated_diabetes_prevalence\"]]\n",
    "\n",
    "df_age_diab.describe()"
   ]
  },
  {
   "cell_type": "markdown",
   "metadata": {},
   "source": [
    "From this quick description, we notice that the densities have roughly the same std, that the mean diabetes prevalence is 6.42 and most importantly, that each area has at least 56% of middle age population ! Compared to young_density where each area has at least 8.78% and old_density 3.6%. This is logical. However, we have to take this into account when analyzing future results."
   ]
  },
  {
   "cell_type": "markdown",
   "metadata": {},
   "source": [
    "### Correlations analyisis "
   ]
  },
  {
   "cell_type": "markdown",
   "metadata": {},
   "source": [
    "Now, we check if age densities correlate with diabetes prevalence. To do so, we are computing the Spearman rank correlation and keep only correlations with p < 0.05"
   ]
  },
  {
   "cell_type": "code",
   "execution_count": null,
   "metadata": {},
   "outputs": [],
   "source": [
    "rho, p_val = stats.spearmanr(df_age_diab, axis = 0)"
   ]
  },
  {
   "cell_type": "code",
   "execution_count": null,
   "metadata": {},
   "outputs": [],
   "source": [
    "rho = pd.DataFrame(rho, index = df_age_diab.columns, columns = df_age_diab.columns)\n",
    "\n",
    "#place NaN on unrelevant correlations\n",
    "rho.where(p_val < 0.05, inplace = True)\n",
    "rho"
   ]
  },
  {
   "cell_type": "code",
   "execution_count": null,
   "metadata": {},
   "outputs": [],
   "source": [
    "plt.figure(figsize = (10,5))\n",
    "sns.barplot(x = rho.index.drop(\"estimated_diabetes_prevalence\"),\n",
    "            y = rho[\"estimated_diabetes_prevalence\"].drop(\"estimated_diabetes_prevalence\"))\n",
    "\n",
    "plt.title(\"Correlation between diabetes prevalence and age densities\")\n",
    "plt.show()"
   ]
  },
  {
   "cell_type": "markdown",
   "metadata": {},
   "source": [
    "### Interesting results so far !\n",
    "\n",
    "No need to talk much about the results, which are quite visual ! The younger the population, the higher the estimated diabetes prevalence.\n",
    "Correlation between old densities was not found to be relevant though.\n",
    "\n",
    "Let's compare the number of gp patients in younger areas with the number of gp patients in other areas\n"
   ]
  },
  {
   "cell_type": "code",
   "execution_count": null,
   "metadata": {},
   "outputs": [],
   "source": [
    "df_age_diab.loc[:,\"gp_patients\"] = df.loc[:,\"gp_patients\"]\n",
    "df_age_diab.loc[:,\"gp_patients_diabetes\"] = df.loc[:,\"gp_patients_diabetes\"]\n",
    "df_age_diab.describe()\n"
   ]
  },
  {
   "cell_type": "code",
   "execution_count": null,
   "metadata": {},
   "outputs": [],
   "source": [
    "rho, p_val = stats.spearmanr(df_age_diab, axis = 0)\n",
    "\n",
    "rho = pd.DataFrame(rho, index = df_age_diab.columns, columns = df_age_diab.columns)\n",
    "\n",
    "#place NaN on unrelevant correlations\n",
    "rho.where(p_val < 0.05, inplace = True)\n",
    "rho"
   ]
  },
  {
   "cell_type": "code",
   "execution_count": null,
   "metadata": {},
   "outputs": [],
   "source": [
    "plt.figure(figsize = (14,5))\n",
    "sns.barplot(x = rho.index.drop([\"gp_patients\", \"gp_patients_diabetes\"]),\n",
    "            y = rho[\"gp_patients\"].drop([\"gp_patients\", \"gp_patients_diabetes\"]))\n",
    "\n",
    "plt.title(\"Correlation between age densities and gp_patients subscribers\")\n",
    "plt.show()"
   ]
  },
  {
   "cell_type": "markdown",
   "metadata": {},
   "source": [
    "Mid age density is slightly more correlated with the registrations at a gp practice than younger densities areas. But the number of gp patients is also slightly positively correlated with the estimated diabetes prevalence.\n",
    "\n",
    "From this correlations plot, we conclude that the correlations found in figure are meaningful. \n",
    "\n",
    "We also see that the older the population is, the less subscribers at a gp there are. which can explain the fact why the old_density was not taken into account when passing through our correlation filter (p < 0.05)\n",
    "\n",
    "We are therefore primarily going to focus on the young and mid_age populations."
   ]
  },
  {
   "cell_type": "markdown",
   "metadata": {},
   "source": [
    " ### So, why ? "
   ]
  },
  {
   "cell_type": "markdown",
   "metadata": {},
   "source": [
    "We now we would like to know why younger populations tend to have a higher diabetes prevalence estimate.\n",
    "To do so, we are going to compare the food habits of young populations compared to the others. We are only keeping correlations > 0.25 in absolute value"
   ]
  },
  {
   "cell_type": "markdown",
   "metadata": {},
   "source": [
    "### Which types of products prefer the young person ? "
   ]
  },
  {
   "cell_type": "code",
   "execution_count": null,
   "metadata": {},
   "outputs": [],
   "source": [
    "df_prod = df[[\"f_beer\",\"f_dairy\",\"f_eggs\",\"f_fats_oils\"\n",
    "              ,\"f_fish\",\"f_fruit_veg\",\"f_grains\",\"f_meat_red\"\n",
    "              ,\"f_poultry\",\"f_readymade\",\"f_sauces\",\"f_soft_drinks\"\n",
    "              ,\"f_spirits\",\"f_sweets\",\"f_tea_coffee\",\"f_water\",\"f_wine\"\n",
    "              , \"young_density\"\n",
    "              , \"mid_age_density\", \"old_density\"]]"
   ]
  },
  {
   "cell_type": "code",
   "execution_count": null,
   "metadata": {},
   "outputs": [],
   "source": [
    "rho, p_val = stats.spearmanr(df_prod, axis = 0)\n",
    "\n",
    "rho = pd.DataFrame(rho, index = df_prod.columns, columns = df_prod.columns)\n",
    "\n",
    "#place NaN on unrelevant correlations\n",
    "rho.where(p_val < 0.05, inplace = True)\n",
    "rho.where(abs(rho) > 0.25, inplace = True)"
   ]
  },
  {
   "cell_type": "code",
   "execution_count": null,
   "metadata": {},
   "outputs": [],
   "source": [
    "plt.figure(figsize = (20,5))\n",
    "sns.barplot(x = rho.index.drop([\"young_density\", \"mid_age_density\", \"old_density\"]),\n",
    "            y = rho.drop([\"young_density\", \"mid_age_density\", \"old_density\"])[\"young_density\"])\n",
    "plt.show() "
   ]
  },
  {
   "cell_type": "code",
   "execution_count": null,
   "metadata": {},
   "outputs": [],
   "source": [
    "plt.figure(figsize = (20,5))\n",
    "sns.barplot(x = rho.index.drop([\"young_density\", \"mid_age_density\", \"old_density\"]),\n",
    "            y = rho.drop([\"young_density\", \"mid_age_density\", \"old_density\"])[\"mid_age_density\"])\n",
    "plt.show()"
   ]
  },
  {
   "cell_type": "code",
   "execution_count": null,
   "metadata": {},
   "outputs": [],
   "source": [
    "#Creating both barplots side by side \n",
    "import numpy as np\n",
    "fig = plt.figure(figsize = (20,5))\n",
    "plot_df = rho[[\"mid_age_density\", \"young_density\"]]\n",
    "plot_df.fillna(0, inplace = True)\n",
    "\n",
    "#Drop lines with no particular information\n",
    "idx_to_drop = plot_df[(plot_df[\"mid_age_density\"] == 0) & (plot_df[\"young_density\"]==0)].index\n",
    "plot_df.drop(idx_to_drop, inplace = True)\n",
    "idx_to_drop"
   ]
  },
  {
   "cell_type": "code",
   "execution_count": null,
   "metadata": {},
   "outputs": [],
   "source": [
    "fig = plt.figure(figsize = (15,5))\n",
    "x_ticks = plot_df.index.drop([\"young_density\", \"mid_age_density\", \"old_density\"])\n",
    "\n",
    "x = np.arange(10)\n",
    "ax1 = plt.subplot(1,1,1)\n",
    "ax1.set_ylim([-1,1])\n",
    "w = 0.3\n",
    "plt.xticks(x + w/2, x_ticks, rotation = \"vertical\")\n",
    "mid = ax1.bar(x, plot_df.drop([\"young_density\", \"mid_age_density\", \"old_density\"])[\"mid_age_density\"], width = w, color = 'b', align = \"center\")\n",
    "\n",
    "ax2 = ax1.twinx()\n",
    "ax2.set_ylim([-1,1])\n",
    "young = ax2.bar(x + w, plot_df.drop([\"young_density\", \"mid_age_density\", \"old_density\"])[\"young_density\"], width = w, color = 'g', align = \"center\")\n",
    "\n",
    "plt.legend([mid, young], [\"middle aged density\", \"young density\"], loc = 'upper left')\n",
    "plt.title(\"Correlations between age density of the areas and products purchases\")\n",
    "plt.show()"
   ]
  },
  {
   "cell_type": "markdown",
   "metadata": {},
   "source": [
    " ### Interpretation\n",
    " \n",
    " Non surprisingly, younger populations are strongly negatively correlated with alcohol products (beer & wine). Indeed, it's illegal to buy alcohol before 18 in London !\n",
    " \n",
    " However, they are being bad students regarding fruits and vegetables products and fish. But they are keen on sweets, soft drinks and grains products !\n",
    " \n",
    " To the side of the mid-age denstiy populations it is quite the oposite (which is logical, since the less the young density, the more in the mid-age density). "
   ]
  },
  {
   "cell_type": "markdown",
   "metadata": {},
   "source": [
    "### So how are the products purchases correlated with diabetes prevalence ? "
   ]
  },
  {
   "cell_type": "code",
   "execution_count": null,
   "metadata": {},
   "outputs": [],
   "source": [
    "df_prod.loc[:,\"diabetes_prevalence\"] = df.loc[:,\"estimated_diabetes_prevalence\"]"
   ]
  },
  {
   "cell_type": "code",
   "execution_count": null,
   "metadata": {},
   "outputs": [],
   "source": [
    "rho, p_val = stats.spearmanr(df_prod, axis = 0)\n",
    "\n",
    "rho = pd.DataFrame(rho, index = df_prod.columns, columns = df_prod.columns)\n",
    "\n",
    "#place NaN on unrelevant correlations\n",
    "rho.where(p_val < 0.05, inplace = True)\n",
    "rho.where(abs(rho) > 0.25, inplace = True)"
   ]
  },
  {
   "cell_type": "code",
   "execution_count": null,
   "metadata": {},
   "outputs": [],
   "source": [
    "plt.figure(figsize = (20,5))\n",
    "sns.barplot(x = rho.index.drop([\"young_density\", \"mid_age_density\", \"old_density\", \"diabetes_prevalence\"]),\n",
    "            y = rho.drop([\"young_density\", \"mid_age_density\", \"old_density\", \"diabetes_prevalence\"])[\"diabetes_prevalence\"])\n",
    "plt.show()"
   ]
  },
  {
   "cell_type": "markdown",
   "metadata": {},
   "source": [
    "## Déja Vu ? \n",
    "Effectively, all the products follow the same correlations trends with diabetes_prevalence and young_density areas ! \n",
    "\n",
    "### But wait, what ?? Is this saying that alcohol consumption decreases the risk of getting diabetes ? \n",
    "\n",
    "Well, according to [this](https://time.com/4876998/drinking-wine-diabetes/#:~:text=People%20who%20had%20the%20lowest,had%20a%2058%25%20reduced%20risk.) study, yes. But stay moderate !\n"
   ]
  },
  {
   "cell_type": "markdown",
   "metadata": {},
   "source": [
    "## Some plots we could use in the story/study"
   ]
  },
  {
   "cell_type": "markdown",
   "metadata": {},
   "source": [
    "### young density vs diabetes prevalence (Scatter Plot)"
   ]
  },
  {
   "cell_type": "code",
   "execution_count": null,
   "metadata": {},
   "outputs": [],
   "source": [
    "plt.scatter(df_prod[\"young_density\"], df_prod[\"diabetes_prevalence\"])\n",
    "plt.show()"
   ]
  },
  {
   "cell_type": "markdown",
   "metadata": {},
   "source": [
    "### mid-age density vs diabetes prevalence"
   ]
  },
  {
   "cell_type": "code",
   "execution_count": null,
   "metadata": {},
   "outputs": [],
   "source": [
    "plt.scatter(df_prod[\"mid_age_density\"], df_prod[\"diabetes_prevalence\"])\n",
    "plt.show()"
   ]
  },
  {
   "cell_type": "markdown",
   "metadata": {},
   "source": [
    "## Experimenting plotly "
   ]
  },
  {
   "cell_type": "code",
   "execution_count": null,
   "metadata": {},
   "outputs": [],
   "source": [
    "import plotly.graph_objs as go\n",
    "from plotly.offline import iplot\n"
   ]
  },
  {
   "cell_type": "code",
   "execution_count": null,
   "metadata": {},
   "outputs": [],
   "source": [
    "# create trace1 \n",
    "trace1 = go.Bar(\n",
    "                x = x_ticks,\n",
    "                y = plot_df.drop([\"young_density\", \"mid_age_density\", \"old_density\"])[\"mid_age_density\"],\n",
    "                name = \"adults density\",\n",
    "                marker = dict(color = 'rgba(255, 174, 255, 0.5)',\n",
    "                             line=dict(color='rgb(0,0,0)',width=1.5)),\n",
    "                #text = df2014.country)\n",
    "                )\n",
    "    \n",
    "# create trace2 \n",
    "trace2 = go.Bar(\n",
    "                x = x_ticks,\n",
    "                y = plot_df.drop([\"young_density\", \"mid_age_density\", \"old_density\"])[\"young_density\"],\n",
    "                name = \"young density\",\n",
    "                marker = dict(color = 'rgba(255, 255, 128, 0.5)',\n",
    "                              line=dict(color='rgb(0,0,0)',width=1.5)),\n",
    "                #text = df2014.country)\n",
    "                )\n",
    "    \n",
    "data = [trace1, trace2]\n",
    "layout = go.Layout(barmode = \"group\", title = \"Correlations between products purchases and age density\")\n",
    "fig = go.Figure(data = data, layout = layout)\n",
    "iplot(fig)"
   ]
  },
  {
   "cell_type": "code",
   "execution_count": null,
   "metadata": {},
   "outputs": [],
   "source": []
  },
  {
   "cell_type": "code",
   "execution_count": null,
   "metadata": {},
   "outputs": [],
   "source": []
  }
 ],
 "metadata": {
  "kernelspec": {
   "display_name": "Python 3",
   "language": "python",
   "name": "python3"
  },
  "language_info": {
   "codemirror_mode": {
    "name": "ipython",
    "version": 3
   },
   "file_extension": ".py",
   "mimetype": "text/x-python",
   "name": "python",
   "nbconvert_exporter": "python",
   "pygments_lexer": "ipython3",
   "version": "3.7.3"
  }
 },
 "nbformat": 4,
 "nbformat_minor": 4
}

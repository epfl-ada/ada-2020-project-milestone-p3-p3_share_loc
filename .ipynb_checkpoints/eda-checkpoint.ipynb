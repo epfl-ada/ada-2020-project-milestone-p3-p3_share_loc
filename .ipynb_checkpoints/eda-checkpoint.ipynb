{
 "cells": [
  {
   "cell_type": "code",
   "execution_count": 1,
   "metadata": {},
   "outputs": [],
   "source": [
    "import pandas as pd\n",
    "import numpy as np"
   ]
  },
  {
   "cell_type": "markdown",
   "metadata": {},
   "source": [
    "## 1. Data wrangling"
   ]
  },
  {
   "cell_type": "markdown",
   "metadata": {},
   "source": [
    "### a. Import datasets"
   ]
  },
  {
   "cell_type": "code",
   "execution_count": 2,
   "metadata": {},
   "outputs": [
    {
     "data": {
      "text/html": [
       "<div>\n",
       "<style scoped>\n",
       "    .dataframe tbody tr th:only-of-type {\n",
       "        vertical-align: middle;\n",
       "    }\n",
       "\n",
       "    .dataframe tbody tr th {\n",
       "        vertical-align: top;\n",
       "    }\n",
       "\n",
       "    .dataframe thead th {\n",
       "        text-align: right;\n",
       "    }\n",
       "</style>\n",
       "<table border=\"1\" class=\"dataframe\">\n",
       "  <thead>\n",
       "    <tr style=\"text-align: right;\">\n",
       "      <th></th>\n",
       "      <th>weight</th>\n",
       "      <th>weight_perc2.5</th>\n",
       "      <th>weight_perc25</th>\n",
       "      <th>weight_perc50</th>\n",
       "      <th>weight_perc75</th>\n",
       "      <th>weight_perc97.5</th>\n",
       "      <th>weight_std</th>\n",
       "      <th>weight_ci95</th>\n",
       "      <th>volume</th>\n",
       "      <th>volume_perc2.5</th>\n",
       "      <th>...</th>\n",
       "      <th>population</th>\n",
       "      <th>male</th>\n",
       "      <th>female</th>\n",
       "      <th>age_0_17</th>\n",
       "      <th>age_18_64</th>\n",
       "      <th>age_65+</th>\n",
       "      <th>avg_age</th>\n",
       "      <th>area_sq_km</th>\n",
       "      <th>people_per_sq_km</th>\n",
       "      <th>density</th>\n",
       "    </tr>\n",
       "    <tr>\n",
       "      <th>area_id</th>\n",
       "      <th></th>\n",
       "      <th></th>\n",
       "      <th></th>\n",
       "      <th></th>\n",
       "      <th></th>\n",
       "      <th></th>\n",
       "      <th></th>\n",
       "      <th></th>\n",
       "      <th></th>\n",
       "      <th></th>\n",
       "      <th></th>\n",
       "      <th></th>\n",
       "      <th></th>\n",
       "      <th></th>\n",
       "      <th></th>\n",
       "      <th></th>\n",
       "      <th></th>\n",
       "      <th></th>\n",
       "      <th></th>\n",
       "      <th></th>\n",
       "      <th></th>\n",
       "    </tr>\n",
       "  </thead>\n",
       "  <tbody>\n",
       "    <tr>\n",
       "      <th>E02000001</th>\n",
       "      <td>323.180804</td>\n",
       "      <td>35.0</td>\n",
       "      <td>150.0</td>\n",
       "      <td>250.0</td>\n",
       "      <td>400.0</td>\n",
       "      <td>1000.0</td>\n",
       "      <td>323.685705</td>\n",
       "      <td>1.001360</td>\n",
       "      <td>98.849228</td>\n",
       "      <td>13.0</td>\n",
       "      <td>...</td>\n",
       "      <td>6687.0</td>\n",
       "      <td>3697.0</td>\n",
       "      <td>2990.0</td>\n",
       "      <td>1018.0</td>\n",
       "      <td>4349.0</td>\n",
       "      <td>1320.0</td>\n",
       "      <td>43.910124</td>\n",
       "      <td>2.90</td>\n",
       "      <td>2305.862069</td>\n",
       "      <td>2305.862069</td>\n",
       "    </tr>\n",
       "    <tr>\n",
       "      <th>E02000002</th>\n",
       "      <td>397.651232</td>\n",
       "      <td>32.5</td>\n",
       "      <td>150.0</td>\n",
       "      <td>300.0</td>\n",
       "      <td>500.0</td>\n",
       "      <td>1020.0</td>\n",
       "      <td>550.434424</td>\n",
       "      <td>6.030232</td>\n",
       "      <td>118.288417</td>\n",
       "      <td>11.0</td>\n",
       "      <td>...</td>\n",
       "      <td>7379.0</td>\n",
       "      <td>3549.0</td>\n",
       "      <td>3830.0</td>\n",
       "      <td>2150.0</td>\n",
       "      <td>4151.0</td>\n",
       "      <td>1078.0</td>\n",
       "      <td>35.567286</td>\n",
       "      <td>2.16</td>\n",
       "      <td>3416.203704</td>\n",
       "      <td>3416.203704</td>\n",
       "    </tr>\n",
       "    <tr>\n",
       "      <th>E02000003</th>\n",
       "      <td>371.276702</td>\n",
       "      <td>30.0</td>\n",
       "      <td>140.0</td>\n",
       "      <td>250.0</td>\n",
       "      <td>450.0</td>\n",
       "      <td>1200.0</td>\n",
       "      <td>564.404826</td>\n",
       "      <td>4.398728</td>\n",
       "      <td>118.385615</td>\n",
       "      <td>12.0</td>\n",
       "      <td>...</td>\n",
       "      <td>10720.0</td>\n",
       "      <td>5297.0</td>\n",
       "      <td>5423.0</td>\n",
       "      <td>2762.0</td>\n",
       "      <td>6649.0</td>\n",
       "      <td>1309.0</td>\n",
       "      <td>35.700466</td>\n",
       "      <td>2.14</td>\n",
       "      <td>5009.345794</td>\n",
       "      <td>5009.345794</td>\n",
       "    </tr>\n",
       "    <tr>\n",
       "      <th>E02000004</th>\n",
       "      <td>347.481292</td>\n",
       "      <td>29.0</td>\n",
       "      <td>126.0</td>\n",
       "      <td>250.0</td>\n",
       "      <td>430.0</td>\n",
       "      <td>1000.0</td>\n",
       "      <td>479.372575</td>\n",
       "      <td>5.297349</td>\n",
       "      <td>104.435407</td>\n",
       "      <td>11.0</td>\n",
       "      <td>...</td>\n",
       "      <td>6536.0</td>\n",
       "      <td>3119.0</td>\n",
       "      <td>3417.0</td>\n",
       "      <td>1454.0</td>\n",
       "      <td>4044.0</td>\n",
       "      <td>1038.0</td>\n",
       "      <td>38.493115</td>\n",
       "      <td>2.48</td>\n",
       "      <td>2635.483871</td>\n",
       "      <td>2635.483871</td>\n",
       "    </tr>\n",
       "    <tr>\n",
       "      <th>E02000005</th>\n",
       "      <td>400.576688</td>\n",
       "      <td>32.5</td>\n",
       "      <td>150.0</td>\n",
       "      <td>296.0</td>\n",
       "      <td>500.0</td>\n",
       "      <td>1050.0</td>\n",
       "      <td>593.021809</td>\n",
       "      <td>5.107669</td>\n",
       "      <td>128.997438</td>\n",
       "      <td>11.0</td>\n",
       "      <td>...</td>\n",
       "      <td>9243.0</td>\n",
       "      <td>4478.0</td>\n",
       "      <td>4765.0</td>\n",
       "      <td>2678.0</td>\n",
       "      <td>5554.0</td>\n",
       "      <td>1011.0</td>\n",
       "      <td>34.156335</td>\n",
       "      <td>1.19</td>\n",
       "      <td>7767.226891</td>\n",
       "      <td>7767.226891</td>\n",
       "    </tr>\n",
       "  </tbody>\n",
       "</table>\n",
       "<p>5 rows × 202 columns</p>\n",
       "</div>"
      ],
      "text/plain": [
       "               weight  weight_perc2.5  weight_perc25  weight_perc50  \\\n",
       "area_id                                                               \n",
       "E02000001  323.180804            35.0          150.0          250.0   \n",
       "E02000002  397.651232            32.5          150.0          300.0   \n",
       "E02000003  371.276702            30.0          140.0          250.0   \n",
       "E02000004  347.481292            29.0          126.0          250.0   \n",
       "E02000005  400.576688            32.5          150.0          296.0   \n",
       "\n",
       "           weight_perc75  weight_perc97.5  weight_std  weight_ci95  \\\n",
       "area_id                                                              \n",
       "E02000001          400.0           1000.0  323.685705     1.001360   \n",
       "E02000002          500.0           1020.0  550.434424     6.030232   \n",
       "E02000003          450.0           1200.0  564.404826     4.398728   \n",
       "E02000004          430.0           1000.0  479.372575     5.297349   \n",
       "E02000005          500.0           1050.0  593.021809     5.107669   \n",
       "\n",
       "               volume  volume_perc2.5  ...  population    male  female  \\\n",
       "area_id                                ...                               \n",
       "E02000001   98.849228            13.0  ...      6687.0  3697.0  2990.0   \n",
       "E02000002  118.288417            11.0  ...      7379.0  3549.0  3830.0   \n",
       "E02000003  118.385615            12.0  ...     10720.0  5297.0  5423.0   \n",
       "E02000004  104.435407            11.0  ...      6536.0  3119.0  3417.0   \n",
       "E02000005  128.997438            11.0  ...      9243.0  4478.0  4765.0   \n",
       "\n",
       "           age_0_17  age_18_64  age_65+    avg_age  area_sq_km  \\\n",
       "area_id                                                          \n",
       "E02000001    1018.0     4349.0   1320.0  43.910124        2.90   \n",
       "E02000002    2150.0     4151.0   1078.0  35.567286        2.16   \n",
       "E02000003    2762.0     6649.0   1309.0  35.700466        2.14   \n",
       "E02000004    1454.0     4044.0   1038.0  38.493115        2.48   \n",
       "E02000005    2678.0     5554.0   1011.0  34.156335        1.19   \n",
       "\n",
       "           people_per_sq_km      density  \n",
       "area_id                                   \n",
       "E02000001       2305.862069  2305.862069  \n",
       "E02000002       3416.203704  3416.203704  \n",
       "E02000003       5009.345794  5009.345794  \n",
       "E02000004       2635.483871  2635.483871  \n",
       "E02000005       7767.226891  7767.226891  \n",
       "\n",
       "[5 rows x 202 columns]"
      ]
     },
     "execution_count": 2,
     "metadata": {},
     "output_type": "execute_result"
    }
   ],
   "source": [
    "grc_df = pd.read_csv(\"data/year_msoa_grocery.csv\", index_col=\"area_id\")\n",
    "grc_df[\"density\"] = grc_df.population / grc_df.area_sq_km\n",
    "grc_df.head()"
   ]
  },
  {
   "cell_type": "code",
   "execution_count": 3,
   "metadata": {
    "scrolled": false
   },
   "outputs": [
    {
     "data": {
      "text/html": [
       "<div>\n",
       "<style scoped>\n",
       "    .dataframe tbody tr th:only-of-type {\n",
       "        vertical-align: middle;\n",
       "    }\n",
       "\n",
       "    .dataframe tbody tr th {\n",
       "        vertical-align: top;\n",
       "    }\n",
       "\n",
       "    .dataframe thead th {\n",
       "        text-align: right;\n",
       "    }\n",
       "</style>\n",
       "<table border=\"1\" class=\"dataframe\">\n",
       "  <thead>\n",
       "    <tr style=\"text-align: right;\">\n",
       "      <th></th>\n",
       "      <th>MSOA name</th>\n",
       "      <th>Local authority code</th>\n",
       "      <th>Local authority name</th>\n",
       "      <th>Region code</th>\n",
       "      <th>Region name</th>\n",
       "      <th>Total annual income (£)</th>\n",
       "      <th>Upper confidence limit (£)</th>\n",
       "      <th>Lower confidence limit (£)</th>\n",
       "      <th>Confidence interval (£)</th>\n",
       "      <th>Net annual income (£)</th>\n",
       "      <th>...</th>\n",
       "      <th>Lower confidence limit (£).1</th>\n",
       "      <th>Confidence interval (£).1</th>\n",
       "      <th>Net income before housing costs (£)</th>\n",
       "      <th>Upper confidence limit (£).2</th>\n",
       "      <th>Lower confidence limit (£).2</th>\n",
       "      <th>Confidence interval (£).2</th>\n",
       "      <th>Net income after housing costs (£)</th>\n",
       "      <th>Upper confidence limit (£).3</th>\n",
       "      <th>Lower confidence limit (£).3</th>\n",
       "      <th>Confidence interval (£).3</th>\n",
       "    </tr>\n",
       "    <tr>\n",
       "      <th>MSOA code</th>\n",
       "      <th></th>\n",
       "      <th></th>\n",
       "      <th></th>\n",
       "      <th></th>\n",
       "      <th></th>\n",
       "      <th></th>\n",
       "      <th></th>\n",
       "      <th></th>\n",
       "      <th></th>\n",
       "      <th></th>\n",
       "      <th></th>\n",
       "      <th></th>\n",
       "      <th></th>\n",
       "      <th></th>\n",
       "      <th></th>\n",
       "      <th></th>\n",
       "      <th></th>\n",
       "      <th></th>\n",
       "      <th></th>\n",
       "      <th></th>\n",
       "      <th></th>\n",
       "    </tr>\n",
       "  </thead>\n",
       "  <tbody>\n",
       "    <tr>\n",
       "      <th>E02004297</th>\n",
       "      <td>County Durham 001</td>\n",
       "      <td>E06000047</td>\n",
       "      <td>County Durham</td>\n",
       "      <td>E12000001</td>\n",
       "      <td>North East</td>\n",
       "      <td>35900</td>\n",
       "      <td>45200</td>\n",
       "      <td>28500</td>\n",
       "      <td>16700</td>\n",
       "      <td>27300</td>\n",
       "      <td>...</td>\n",
       "      <td>22100</td>\n",
       "      <td>11700</td>\n",
       "      <td>27600</td>\n",
       "      <td>33300</td>\n",
       "      <td>22800</td>\n",
       "      <td>10400</td>\n",
       "      <td>25600</td>\n",
       "      <td>31000</td>\n",
       "      <td>21200</td>\n",
       "      <td>9800</td>\n",
       "    </tr>\n",
       "    <tr>\n",
       "      <th>E02004290</th>\n",
       "      <td>County Durham 002</td>\n",
       "      <td>E06000047</td>\n",
       "      <td>County Durham</td>\n",
       "      <td>E12000001</td>\n",
       "      <td>North East</td>\n",
       "      <td>42500</td>\n",
       "      <td>53600</td>\n",
       "      <td>33700</td>\n",
       "      <td>19900</td>\n",
       "      <td>29800</td>\n",
       "      <td>...</td>\n",
       "      <td>23900</td>\n",
       "      <td>13100</td>\n",
       "      <td>28600</td>\n",
       "      <td>34500</td>\n",
       "      <td>23700</td>\n",
       "      <td>10800</td>\n",
       "      <td>27500</td>\n",
       "      <td>33200</td>\n",
       "      <td>22700</td>\n",
       "      <td>10500</td>\n",
       "    </tr>\n",
       "    <tr>\n",
       "      <th>E02004298</th>\n",
       "      <td>County Durham 003</td>\n",
       "      <td>E06000047</td>\n",
       "      <td>County Durham</td>\n",
       "      <td>E12000001</td>\n",
       "      <td>North East</td>\n",
       "      <td>38000</td>\n",
       "      <td>47700</td>\n",
       "      <td>30200</td>\n",
       "      <td>17600</td>\n",
       "      <td>28300</td>\n",
       "      <td>...</td>\n",
       "      <td>22800</td>\n",
       "      <td>12300</td>\n",
       "      <td>28200</td>\n",
       "      <td>34100</td>\n",
       "      <td>23400</td>\n",
       "      <td>10700</td>\n",
       "      <td>26700</td>\n",
       "      <td>32300</td>\n",
       "      <td>22100</td>\n",
       "      <td>10200</td>\n",
       "    </tr>\n",
       "    <tr>\n",
       "      <th>E02004299</th>\n",
       "      <td>County Durham 004</td>\n",
       "      <td>E06000047</td>\n",
       "      <td>County Durham</td>\n",
       "      <td>E12000001</td>\n",
       "      <td>North East</td>\n",
       "      <td>33500</td>\n",
       "      <td>42200</td>\n",
       "      <td>26700</td>\n",
       "      <td>15500</td>\n",
       "      <td>26600</td>\n",
       "      <td>...</td>\n",
       "      <td>21600</td>\n",
       "      <td>11200</td>\n",
       "      <td>25500</td>\n",
       "      <td>30800</td>\n",
       "      <td>21100</td>\n",
       "      <td>9700</td>\n",
       "      <td>22400</td>\n",
       "      <td>27100</td>\n",
       "      <td>18500</td>\n",
       "      <td>8700</td>\n",
       "    </tr>\n",
       "    <tr>\n",
       "      <th>E02004291</th>\n",
       "      <td>County Durham 005</td>\n",
       "      <td>E06000047</td>\n",
       "      <td>County Durham</td>\n",
       "      <td>E12000001</td>\n",
       "      <td>North East</td>\n",
       "      <td>31700</td>\n",
       "      <td>39800</td>\n",
       "      <td>25200</td>\n",
       "      <td>14600</td>\n",
       "      <td>25500</td>\n",
       "      <td>...</td>\n",
       "      <td>20700</td>\n",
       "      <td>10800</td>\n",
       "      <td>25100</td>\n",
       "      <td>30200</td>\n",
       "      <td>20800</td>\n",
       "      <td>9500</td>\n",
       "      <td>20900</td>\n",
       "      <td>25300</td>\n",
       "      <td>17200</td>\n",
       "      <td>8000</td>\n",
       "    </tr>\n",
       "  </tbody>\n",
       "</table>\n",
       "<p>5 rows × 21 columns</p>\n",
       "</div>"
      ],
      "text/plain": [
       "                   MSOA name Local authority code Local authority name  \\\n",
       "MSOA code                                                                \n",
       "E02004297  County Durham 001            E06000047        County Durham   \n",
       "E02004290  County Durham 002            E06000047        County Durham   \n",
       "E02004298  County Durham 003            E06000047        County Durham   \n",
       "E02004299  County Durham 004            E06000047        County Durham   \n",
       "E02004291  County Durham 005            E06000047        County Durham   \n",
       "\n",
       "          Region code Region name  Total annual income (£)  \\\n",
       "MSOA code                                                    \n",
       "E02004297   E12000001  North East                    35900   \n",
       "E02004290   E12000001  North East                    42500   \n",
       "E02004298   E12000001  North East                    38000   \n",
       "E02004299   E12000001  North East                    33500   \n",
       "E02004291   E12000001  North East                    31700   \n",
       "\n",
       "           Upper confidence limit (£)  Lower confidence limit (£)  \\\n",
       "MSOA code                                                           \n",
       "E02004297                       45200                       28500   \n",
       "E02004290                       53600                       33700   \n",
       "E02004298                       47700                       30200   \n",
       "E02004299                       42200                       26700   \n",
       "E02004291                       39800                       25200   \n",
       "\n",
       "           Confidence interval (£)  Net annual income (£)  ...  \\\n",
       "MSOA code                                                  ...   \n",
       "E02004297                    16700                  27300  ...   \n",
       "E02004290                    19900                  29800  ...   \n",
       "E02004298                    17600                  28300  ...   \n",
       "E02004299                    15500                  26600  ...   \n",
       "E02004291                    14600                  25500  ...   \n",
       "\n",
       "           Lower confidence limit (£).1  Confidence interval (£).1  \\\n",
       "MSOA code                                                            \n",
       "E02004297                         22100                      11700   \n",
       "E02004290                         23900                      13100   \n",
       "E02004298                         22800                      12300   \n",
       "E02004299                         21600                      11200   \n",
       "E02004291                         20700                      10800   \n",
       "\n",
       "           Net income before housing costs (£)  Upper confidence limit (£).2  \\\n",
       "MSOA code                                                                      \n",
       "E02004297                                27600                         33300   \n",
       "E02004290                                28600                         34500   \n",
       "E02004298                                28200                         34100   \n",
       "E02004299                                25500                         30800   \n",
       "E02004291                                25100                         30200   \n",
       "\n",
       "           Lower confidence limit (£).2  Confidence interval (£).2  \\\n",
       "MSOA code                                                            \n",
       "E02004297                         22800                      10400   \n",
       "E02004290                         23700                      10800   \n",
       "E02004298                         23400                      10700   \n",
       "E02004299                         21100                       9700   \n",
       "E02004291                         20800                       9500   \n",
       "\n",
       "           Net income after housing costs (£)  Upper confidence limit (£).3  \\\n",
       "MSOA code                                                                     \n",
       "E02004297                               25600                         31000   \n",
       "E02004290                               27500                         33200   \n",
       "E02004298                               26700                         32300   \n",
       "E02004299                               22400                         27100   \n",
       "E02004291                               20900                         25300   \n",
       "\n",
       "           Lower confidence limit (£).3  Confidence interval (£).3  \n",
       "MSOA code                                                           \n",
       "E02004297                         21200                       9800  \n",
       "E02004290                         22700                      10500  \n",
       "E02004298                         22100                      10200  \n",
       "E02004299                         18500                       8700  \n",
       "E02004291                         17200                       8000  \n",
       "\n",
       "[5 rows x 21 columns]"
      ]
     },
     "execution_count": 3,
     "metadata": {},
     "output_type": "execute_result"
    }
   ],
   "source": [
    "inc_df = pd.read_excel(\"data/ons-model-based-income-estimates-msoa.xls\",\n",
    "                       sheet_name=\"2015-16 (annual income)\",\n",
    "                       index_col=\"MSOA code\")\n",
    "inc_df.head()"
   ]
  },
  {
   "cell_type": "markdown",
   "metadata": {},
   "source": [
    "### b. Exploration of the income dataset"
   ]
  },
  {
   "cell_type": "code",
   "execution_count": 4,
   "metadata": {},
   "outputs": [
    {
     "data": {
      "text/plain": [
       "Index(['MSOA name', 'Local authority code', 'Local authority name',\n",
       "       'Region code', 'Region name', 'Total annual income (£)',\n",
       "       'Upper confidence limit (£)', 'Lower confidence limit (£)',\n",
       "       'Confidence interval (£)', 'Net annual income (£)',\n",
       "       'Upper confidence limit (£).1', 'Lower confidence limit (£).1',\n",
       "       'Confidence interval (£).1', 'Net income before housing costs (£)',\n",
       "       'Upper confidence limit (£).2', 'Lower confidence limit (£).2',\n",
       "       'Confidence interval (£).2', 'Net income after housing costs (£)',\n",
       "       'Upper confidence limit (£).3', 'Lower confidence limit (£).3',\n",
       "       'Confidence interval (£).3'],\n",
       "      dtype='object')"
      ]
     },
     "execution_count": 4,
     "metadata": {},
     "output_type": "execute_result"
    }
   ],
   "source": [
    "inc_df.columns"
   ]
  },
  {
   "cell_type": "markdown",
   "metadata": {},
   "source": [
    "The values that we have access to, with there confidence intervals, are:\n",
    "- Total annual income\n",
    "- Net annual income\n",
    "- Net income before housing costs\n",
    "- Net income after housing costs"
   ]
  },
  {
   "cell_type": "code",
   "execution_count": 5,
   "metadata": {},
   "outputs": [
    {
     "data": {
      "text/plain": [
       "348"
      ]
     },
     "execution_count": 5,
     "metadata": {},
     "output_type": "execute_result"
    }
   ],
   "source": [
    "# Number of different local authorities\n",
    "inc_df[\"Local authority name\"].unique().shape[0]"
   ]
  },
  {
   "cell_type": "code",
   "execution_count": 6,
   "metadata": {},
   "outputs": [
    {
     "data": {
      "text/plain": [
       "10"
      ]
     },
     "execution_count": 6,
     "metadata": {},
     "output_type": "execute_result"
    }
   ],
   "source": [
    "# Number of different regions\n",
    "inc_df[\"Region name\"].unique().shape[0]"
   ]
  },
  {
   "cell_type": "markdown",
   "metadata": {},
   "source": [
    "### c. Join datasets and keep exploring"
   ]
  },
  {
   "cell_type": "code",
   "execution_count": 7,
   "metadata": {},
   "outputs": [
    {
     "name": "stdout",
     "output_type": "stream",
     "text": [
      "There are 983 areas in the Tesco dataset.\n",
      "983 of them appear in the income dataset.\n"
     ]
    }
   ],
   "source": [
    "areas = set(grc_df.index).intersection(set(inc_df.index))\n",
    "print(f\"There are {len(grc_df)} areas in the Tesco dataset.\")\n",
    "print(f\"{len(areas)} of them appear in the income dataset.\")"
   ]
  },
  {
   "cell_type": "markdown",
   "metadata": {},
   "source": [
    "(The numbers above are good news)"
   ]
  },
  {
   "cell_type": "code",
   "execution_count": 8,
   "metadata": {},
   "outputs": [
    {
     "data": {
      "text/plain": [
       "(983, 223)"
      ]
     },
     "execution_count": 8,
     "metadata": {},
     "output_type": "execute_result"
    }
   ],
   "source": [
    "df = grc_df.join(inc_df, how=\"inner\")\n",
    "df.shape"
   ]
  },
  {
   "cell_type": "code",
   "execution_count": 9,
   "metadata": {},
   "outputs": [
    {
     "data": {
      "text/plain": [
       "<matplotlib.axes._subplots.AxesSubplot at 0x1cc64b2fa58>"
      ]
     },
     "execution_count": 9,
     "metadata": {},
     "output_type": "execute_result"
    },
    {
     "data": {
      "image/png": "[encoded data removed]",
      "text/plain": [
       "<Figure size 432x288 with 1 Axes>"
      ]
     },
     "metadata": {
      "needs_background": "light"
     },
     "output_type": "display_data"
    }
   ],
   "source": [
    "df[\"Net annual income (£)\"].hist(bins=40)"
   ]
  },
  {
   "cell_type": "code",
   "execution_count": 10,
   "metadata": {},
   "outputs": [
    {
     "data": {
      "text/plain": [
       "<matplotlib.axes._subplots.AxesSubplot at 0x1cc651fa5c0>"
      ]
     },
     "execution_count": 10,
     "metadata": {},
     "output_type": "execute_result"
    },
    {
     "data": {
      "image/png": "[encoded data removed]",
      "text/plain": [
       "<Figure size 432x288 with 1 Axes>"
      ]
     },
     "metadata": {
      "needs_background": "light"
     },
     "output_type": "display_data"
    }
   ],
   "source": [
    "df[\"Total annual income (£)\"].hist(bins=40)"
   ]
  },
  {
   "cell_type": "code",
   "execution_count": null,
   "metadata": {},
   "outputs": [],
   "source": []
  }
 ],
 "metadata": {
  "kernelspec": {
   "display_name": "Python 3",
   "language": "python",
   "name": "python3"
  },
  "language_info": {
   "codemirror_mode": {
    "name": "ipython",
    "version": 3
   },
   "file_extension": ".py",
   "mimetype": "text/x-python",
   "name": "python",
   "nbconvert_exporter": "python",
   "pygments_lexer": "ipython3",
   "version": "3.7.3"
  }
 },
 "nbformat": 4,
 "nbformat_minor": 4
}

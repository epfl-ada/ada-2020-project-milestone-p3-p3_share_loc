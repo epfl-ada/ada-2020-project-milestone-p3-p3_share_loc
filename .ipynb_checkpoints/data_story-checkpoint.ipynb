{
 "cells": [
  {
   "cell_type": "markdown",
   "metadata": {},
   "source": [
    "# DiHabitIs,  a data story made by ShareLoc\n",
    "\n",
    "In a [study](https://www.ncbi.nlm.nih.gov/pmc/articles/PMC7029018/) analyzing a record of 420M food items purchased at Tesco in greater London, researchers identified nutrients that were highly correlated with diabetes. \n",
    "\n",
    "We, ShareLoc, would like to dig further in this dataset and look if other factors correlate with diabetes risk. \n",
    "Note that purchases have been grouped into areas, meaning that we can not perform analysis on individuals, but rather have information about the general tendencies in a specific area.  \n",
    "\n",
    "## Age study (make this title fun)\n",
    "\n",
    "Our first step is to differentiate areas by age. We have access to three groups of age : \n",
    "- young : 0 to 17 years\n",
    "- adult : 18 to 64 years\n",
    "- old   : 65+ years\n",
    "\n",
    "We computed the age densities of each population (e.g young_density = #young/total_population) and hereby plot the correlations between the age densities and diabets prevalence : we only took into account correlations having a p-value < 0.05\n",
    "\n",
    "![Alt](corr_age_diab.png)\n",
    "\n",
    "**Surprising !** The younger the population, the higher its diabetes prevalence score. Older population tend not to be affected though. So what do younger areas like so much that adults don't like ?  \n",
    "\n",
    "![Alt](corr_prod_age.jpg)\n",
    "\n",
    "**How Sweet !**\n",
    "(Not so) Surprisingly, "
   ]
  },
  {
   "cell_type": "markdown",
   "metadata": {},
   "source": [
    "## Correlation between income and purchased ingredients"
   ]
  },
  {
   "cell_type": "markdown",
   "metadata": {},
   "source": [
    "\n",
    "This table presents the correlation between diabetes prevalence and different food ingredients. We tend to focus on ingred having high correlations >= 0.25.\n",
    "<img src=\"food_diabetes_prevalence.png\">\n"
   ]
  },
  {
   "cell_type": "markdown",
   "metadata": {},
   "source": [
    "Beer, fish, wine, fruits and vegetables have negative correlation with diabetes prevalence.\n",
    "\n",
    "However, fats and oils, grains, soft drinks and sweets have positive correlation with diabetes prevalence.\n",
    "\n",
    "The consumption of these ingredients highly depends on the income of Londoners. As such, the data is divided into three categories based on the net annual income such that:\n",
    "- low income: 27,800 - 35,000\n",
    "- average income 35,000 - 43,150\n",
    "- high income: above 43,150 \n",
    "\n"
   ]
  },
  {
   "cell_type": "markdown",
   "metadata": {},
   "source": [
    "<img src=\"low_food_high_income.png\">\n",
    "\n",
    "\n",
    "<img src=\"high_food_high_income.png\">\n"
   ]
  },
  {
   "cell_type": "markdown",
   "metadata": {},
   "source": [
    "As seen in the plots above, ingredients which have positive correlation with diabetes prevalence increase in consumption when income is lower. However, ingredients having negative correlation with diabetes \n",
    "prevalence are less consumed when income is lower.\n",
    "It can be deduced that people with higher incomes consume ingredients having lower effects on producing diabetes, and they follow a healthier food regime.\n",
    "\n",
    "#### what relation between healthier regime and energy intake?"
   ]
  },
  {
   "cell_type": "markdown",
   "metadata": {},
   "source": [
    "#### Energy from nutrients (to be finished)\n",
    "<img src=\"energy_income.png\" width=\"1250\">"
   ]
  },
  {
   "cell_type": "markdown",
   "metadata": {},
   "source": [
    "By correlation to the above figures, although there is a difference between the consumption patterns between the impact categories. However, there is a balance in the nutrients energy.\n",
    "The variation exists\n",
    "- energy from alcohol is almost the same for all income categories: there is a compensation between the high spirits consumption as income decreases, and the high beer and wine consumption as income increases.\n",
    "- energy from sugar decreases from 21.2% to 20.9% as income increases: low income people tend to consume more sweets and soft drinks for example.\n",
    "\n",
    "\n",
    "- energy from protein:(?)\n",
    "- energy from carbs:(?)\n",
    "- energy from fibre increases due to the higher consumption of fruits and vegetables as income increases\n",
    "- energy from fat increases (?)\n",
    "- energy from saturate:(?)\n"
   ]
  },
  {
   "cell_type": "code",
   "execution_count": null,
   "metadata": {},
   "outputs": [],
   "source": []
  },
  {
   "cell_type": "code",
   "execution_count": null,
   "metadata": {},
   "outputs": [],
   "source": []
  },
  {
   "cell_type": "code",
   "execution_count": null,
   "metadata": {},
   "outputs": [],
   "source": []
  }
 ],
 "metadata": {
  "kernelspec": {
   "display_name": "Python 3",
   "language": "python",
   "name": "python3"
  },
  "language_info": {
   "codemirror_mode": {
    "name": "ipython",
    "version": 3
   },
   "file_extension": ".py",
   "mimetype": "text/x-python",
   "name": "python",
   "nbconvert_exporter": "python",
   "pygments_lexer": "ipython3",
   "version": "3.7.3"
  }
 },
 "nbformat": 4,
 "nbformat_minor": 4
}
